{
 "cells": [
  {
   "cell_type": "markdown",
   "id": "f9f61b61",
   "metadata": {},
   "source": [
    "### ⚙️ **Compose Data Frames With All Post Descriptions and User Info** ⚙️"
   ]
  },
  {
   "cell_type": "code",
   "execution_count": 9,
   "id": "914dea08",
   "metadata": {},
   "outputs": [],
   "source": [
    "import json\n",
    "import pandas as pd\n",
    "import numpy as np"
   ]
  },
  {
   "cell_type": "code",
   "execution_count": 22,
   "id": "fceb120b",
   "metadata": {},
   "outputs": [],
   "source": [
    "with open(\"../data/o4u_messages_Jun_07_2025.json\", \"r\", encoding=\"utf-8\") as f:\n",
    "    posts = json.load(f)\n",
    "\n",
    "with open(\"../data/o4u_preprocessed_messages_Jun_07_2025.json\", \"r\", encoding=\"utf8\") as f:\n",
    "    preprocessed_posts = json.load(f)"
   ]
  },
  {
   "cell_type": "code",
   "execution_count": 24,
   "id": "1dade975",
   "metadata": {},
   "outputs": [
    {
     "data": {
      "text/html": [
       "<div>\n",
       "<style scoped>\n",
       "    .dataframe tbody tr th:only-of-type {\n",
       "        vertical-align: middle;\n",
       "    }\n",
       "\n",
       "    .dataframe tbody tr th {\n",
       "        vertical-align: top;\n",
       "    }\n",
       "\n",
       "    .dataframe thead th {\n",
       "        text-align: right;\n",
       "    }\n",
       "</style>\n",
       "<table border=\"1\" class=\"dataframe\">\n",
       "  <thead>\n",
       "    <tr style=\"text-align: right;\">\n",
       "      <th></th>\n",
       "      <th>post_id</th>\n",
       "      <th>post</th>\n",
       "      <th>preprocessed_post</th>\n",
       "      <th>embedding</th>\n",
       "    </tr>\n",
       "  </thead>\n",
       "  <tbody>\n",
       "    <tr>\n",
       "      <th>0</th>\n",
       "      <td>0</td>\n",
       "      <td>Dear students,\\n\\nThis channel advertises mino...</td>\n",
       "      <td>Dear students, This channel advertises minor e...</td>\n",
       "      <td>None</td>\n",
       "    </tr>\n",
       "    <tr>\n",
       "      <th>1</th>\n",
       "      <td>1</td>\n",
       "      <td>📣Hi there!\\n\\nStudent Affairs is urgently look...</td>\n",
       "      <td>Hi there! Student Affairs is urgently looking ...</td>\n",
       "      <td>None</td>\n",
       "    </tr>\n",
       "    <tr>\n",
       "      <th>2</th>\n",
       "      <td>2</td>\n",
       "      <td>📣Hi there! Want any of these?\\n\\nStudent Affai...</td>\n",
       "      <td>Hi there! Want any of these? Student Affairs a...</td>\n",
       "      <td>None</td>\n",
       "    </tr>\n",
       "    <tr>\n",
       "      <th>3</th>\n",
       "      <td>3</td>\n",
       "      <td>Bonjour! Ça va?\\nС'est la vie.. \\nCroissant.\\n...</td>\n",
       "      <td>Bonjour! Ça va? С'est la vie.. Croissant. If t...</td>\n",
       "      <td>None</td>\n",
       "    </tr>\n",
       "    <tr>\n",
       "      <th>4</th>\n",
       "      <td>4</td>\n",
       "      <td>📣On December 14, comedian Vladimir Marconi arr...</td>\n",
       "      <td>On December 14, comedian Vladimir Marconi arri...</td>\n",
       "      <td>None</td>\n",
       "    </tr>\n",
       "  </tbody>\n",
       "</table>\n",
       "</div>"
      ],
      "text/plain": [
       "  post_id                                               post  \\\n",
       "0       0  Dear students,\\n\\nThis channel advertises mino...   \n",
       "1       1  📣Hi there!\\n\\nStudent Affairs is urgently look...   \n",
       "2       2  📣Hi there! Want any of these?\\n\\nStudent Affai...   \n",
       "3       3  Bonjour! Ça va?\\nС'est la vie.. \\nCroissant.\\n...   \n",
       "4       4  📣On December 14, comedian Vladimir Marconi arr...   \n",
       "\n",
       "                                   preprocessed_post embedding  \n",
       "0  Dear students, This channel advertises minor e...      None  \n",
       "1  Hi there! Student Affairs is urgently looking ...      None  \n",
       "2  Hi there! Want any of these? Student Affairs a...      None  \n",
       "3  Bonjour! Ça va? С'est la vie.. Croissant. If t...      None  \n",
       "4  On December 14, comedian Vladimir Marconi arri...      None  "
      ]
     },
     "execution_count": 24,
     "metadata": {},
     "output_type": "execute_result"
    }
   ],
   "source": [
    "df_posts = pd.DataFrame(\n",
    "    np.column_stack((list(range(len(posts))), posts, preprocessed_posts, [None] * len(posts))),  \n",
    "    columns=['post_id', 'post', 'preprocessed_post', 'embedding']\n",
    ")\n",
    "\n",
    "df_posts.head()"
   ]
  },
  {
   "cell_type": "code",
   "execution_count": 28,
   "id": "cd190bbb",
   "metadata": {},
   "outputs": [
    {
     "data": {
      "text/html": [
       "<div>\n",
       "<style scoped>\n",
       "    .dataframe tbody tr th:only-of-type {\n",
       "        vertical-align: middle;\n",
       "    }\n",
       "\n",
       "    .dataframe tbody tr th {\n",
       "        vertical-align: top;\n",
       "    }\n",
       "\n",
       "    .dataframe thead th {\n",
       "        text-align: right;\n",
       "    }\n",
       "</style>\n",
       "<table border=\"1\" class=\"dataframe\">\n",
       "  <thead>\n",
       "    <tr style=\"text-align: right;\">\n",
       "      <th></th>\n",
       "      <th>user_id</th>\n",
       "      <th>post_id</th>\n",
       "      <th>commented</th>\n",
       "      <th>upvoted</th>\n",
       "      <th>attended</th>\n",
       "      <th>reactions</th>\n",
       "    </tr>\n",
       "  </thead>\n",
       "  <tbody>\n",
       "  </tbody>\n",
       "</table>\n",
       "</div>"
      ],
      "text/plain": [
       "Empty DataFrame\n",
       "Columns: [user_id, post_id, commented, upvoted, attended, reactions]\n",
       "Index: []"
      ]
     },
     "execution_count": 28,
     "metadata": {},
     "output_type": "execute_result"
    }
   ],
   "source": [
    "df_users = pd.DataFrame(\n",
    "    columns=['user_id', 'post_id', 'commented', 'upvoted', 'attended', 'reactions']\n",
    ")\n",
    "\n",
    "data_types = {\n",
    "    'user_id': np.int32,\n",
    "    'post_id': np.int32,\n",
    "    'commented': pd.BooleanDtype(),\n",
    "    'upvoted': pd.BooleanDtype(),\n",
    "    'attended': pd.BooleanDtype(),\n",
    "    'reactions': object\n",
    "}\n",
    "\n",
    "df_users = df_users.astype(data_types)\n",
    "\n",
    "df_users.head()"
   ]
  },
  {
   "cell_type": "markdown",
   "id": "fe382328",
   "metadata": {},
   "source": [
    "### 👤 **Create Users With Different Preferences** 👤"
   ]
  },
  {
   "cell_type": "code",
   "execution_count": 25,
   "id": "e8dc9fe3",
   "metadata": {},
   "outputs": [
    {
     "data": {
      "text/plain": [
       "Ellipsis"
      ]
     },
     "execution_count": 25,
     "metadata": {},
     "output_type": "execute_result"
    }
   ],
   "source": [
    "..."
   ]
  },
  {
   "cell_type": "markdown",
   "id": "7c48c1a1",
   "metadata": {},
   "source": [
    "### 🔢 **Populate the `embedding` field of the table** 🔢"
   ]
  },
  {
   "cell_type": "code",
   "execution_count": 7,
   "id": "5ea4a2a0",
   "metadata": {},
   "outputs": [
    {
     "data": {
      "text/plain": [
       "Ellipsis"
      ]
     },
     "execution_count": 7,
     "metadata": {},
     "output_type": "execute_result"
    }
   ],
   "source": [
    "..."
   ]
  }
 ],
 "metadata": {
  "kernelspec": {
   "display_name": "Python 3",
   "language": "python",
   "name": "python3"
  },
  "language_info": {
   "codemirror_mode": {
    "name": "ipython",
    "version": 3
   },
   "file_extension": ".py",
   "mimetype": "text/x-python",
   "name": "python",
   "nbconvert_exporter": "python",
   "pygments_lexer": "ipython3",
   "version": "3.13.0"
  }
 },
 "nbformat": 4,
 "nbformat_minor": 5
}
