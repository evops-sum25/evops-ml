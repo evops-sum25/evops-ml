{
 "cells": [
  {
   "cell_type": "markdown",
   "id": "f9f61b61",
   "metadata": {},
   "source": [
    "# Compose a data frame with all post descriptions"
   ]
  },
  {
   "cell_type": "code",
   "execution_count": 1,
   "id": "0d4d5a22",
   "metadata": {},
   "outputs": [
    {
     "name": "stdout",
     "output_type": "stream",
     "text": [
      "Requirement already satisfied: emoji in /home/fullerite/Documents/VSCode/EvOps/evops-ml/.venv/lib/python3.12/site-packages (2.14.1)\n",
      "Requirement already satisfied: unicodedata2 in /home/fullerite/Documents/VSCode/EvOps/evops-ml/.venv/lib/python3.12/site-packages (16.0.0)\n"
     ]
    }
   ],
   "source": [
    "!pip install emoji unicodedata2"
   ]
  },
  {
   "cell_type": "code",
   "execution_count": 2,
   "id": "914dea08",
   "metadata": {},
   "outputs": [],
   "source": [
    "import json\n",
    "import pandas as pd\n",
    "import re\n",
    "import emoji\n",
    "import unicodedata"
   ]
  },
  {
   "cell_type": "code",
   "execution_count": 3,
   "id": "2023ad6b",
   "metadata": {},
   "outputs": [],
   "source": [
    "def extract_full_text(message):\n",
    "    text_parts = []\n",
    "    for part in message['text']:\n",
    "        if isinstance(part, str):\n",
    "            text_parts.append(part)\n",
    "        elif isinstance(part, dict) and 'text' in part:\n",
    "            text_parts.append(part['text'])\n",
    "    result = ''.join(text_parts)\n",
    "    return None if result == '' else result\n",
    "\n",
    "\n",
    "def preprocess_event_text(text):\n",
    "    text = emoji.replace_emoji(text, replace='')\n",
    "    text = unicodedata.normalize('NFKC', text)\n",
    "    text = re.sub(r'<[^>]+>', '', text)\n",
    "    text = re.sub(r'https?://\\S+|www\\.\\S+', '', text)\n",
    "    text = re.sub(r'[^\\w\\s.,!?;:()\"\\'-]', '', text)\n",
    "    text = re.sub(r'\\s+', ' ', text).strip()\n",
    "    \n",
    "    return text"
   ]
  },
  {
   "cell_type": "code",
   "execution_count": 4,
   "id": "fceb120b",
   "metadata": {},
   "outputs": [],
   "source": [
    "file_path = \"../data/o4u_logs_Jun_07_2025.json\"\n",
    "with open(file_path, \"r\") as f:\n",
    "    data = json.load(f)"
   ]
  },
  {
   "cell_type": "code",
   "execution_count": 5,
   "id": "6bf080b1",
   "metadata": {},
   "outputs": [],
   "source": [
    "processed_posts = []\n",
    "for message in data.get(\"messages\", []):\n",
    "    # extract messages with text content, not service messages\n",
    "    if message.get(\"type\") == \"message\" and message.get(\"text\"):\n",
    "        post_id = message[\"id\"]\n",
    "        raw_post = extract_full_text(message)\n",
    "\n",
    "        if not raw_post.strip():\n",
    "            continue\n",
    "\n",
    "        preprocessed_post = preprocess_event_text(raw_post)\n",
    "\n",
    "        processed_posts.append({\n",
    "            \"post_id\": post_id,\n",
    "            \"post\": raw_post,\n",
    "            \"preprocessed_post\": preprocessed_post,\n",
    "            \"embedding\": None  # placeholder\n",
    "        })\n",
    "\n",
    "df_posts = pd.DataFrame(processed_posts)"
   ]
  },
  {
   "cell_type": "code",
   "execution_count": 6,
   "id": "10f40e04",
   "metadata": {},
   "outputs": [
    {
     "data": {
      "text/html": [
       "<div>\n",
       "<style scoped>\n",
       "    .dataframe tbody tr th:only-of-type {\n",
       "        vertical-align: middle;\n",
       "    }\n",
       "\n",
       "    .dataframe tbody tr th {\n",
       "        vertical-align: top;\n",
       "    }\n",
       "\n",
       "    .dataframe thead th {\n",
       "        text-align: right;\n",
       "    }\n",
       "</style>\n",
       "<table border=\"1\" class=\"dataframe\">\n",
       "  <thead>\n",
       "    <tr style=\"text-align: right;\">\n",
       "      <th></th>\n",
       "      <th>post_id</th>\n",
       "      <th>post</th>\n",
       "      <th>preprocessed_post</th>\n",
       "      <th>embedding</th>\n",
       "    </tr>\n",
       "  </thead>\n",
       "  <tbody>\n",
       "    <tr>\n",
       "      <th>0</th>\n",
       "      <td>3</td>\n",
       "      <td>Dear students,\\n\\nThis channel advertises mino...</td>\n",
       "      <td>Dear students, This channel advertises minor e...</td>\n",
       "      <td>None</td>\n",
       "    </tr>\n",
       "    <tr>\n",
       "      <th>1</th>\n",
       "      <td>6</td>\n",
       "      <td>📣Hi there!\\n\\nStudent Affairs is urgently look...</td>\n",
       "      <td>Hi there! Student Affairs is urgently looking ...</td>\n",
       "      <td>None</td>\n",
       "    </tr>\n",
       "    <tr>\n",
       "      <th>2</th>\n",
       "      <td>7</td>\n",
       "      <td>📣Hi there! Want any of these?\\n\\nStudent Affai...</td>\n",
       "      <td>Hi there! Want any of these? Student Affairs a...</td>\n",
       "      <td>None</td>\n",
       "    </tr>\n",
       "    <tr>\n",
       "      <th>3</th>\n",
       "      <td>8</td>\n",
       "      <td>Bonjour! Ça va?\\nС'est la vie.. \\nCroissant.\\n...</td>\n",
       "      <td>Bonjour! Ça va? С'est la vie.. Croissant. If t...</td>\n",
       "      <td>None</td>\n",
       "    </tr>\n",
       "    <tr>\n",
       "      <th>4</th>\n",
       "      <td>9</td>\n",
       "      <td>📣On December 14, comedian Vladimir Marconi arr...</td>\n",
       "      <td>On December 14, comedian Vladimir Marconi arri...</td>\n",
       "      <td>None</td>\n",
       "    </tr>\n",
       "    <tr>\n",
       "      <th>...</th>\n",
       "      <td>...</td>\n",
       "      <td>...</td>\n",
       "      <td>...</td>\n",
       "      <td>...</td>\n",
       "    </tr>\n",
       "    <tr>\n",
       "      <th>2845</th>\n",
       "      <td>3237</td>\n",
       "      <td>🔥 \"Slippers of the Year\" Contest!\\n\\nYour slip...</td>\n",
       "      <td>\"Slippers of the Year\" Contest! Your slippers ...</td>\n",
       "      <td>None</td>\n",
       "    </tr>\n",
       "    <tr>\n",
       "      <th>2846</th>\n",
       "      <td>3238</td>\n",
       "      <td>🌍 ECO ACTION for World Environment Day!\\n\\n5 J...</td>\n",
       "      <td>ECO ACTION for World Environment Day! 5 June i...</td>\n",
       "      <td>None</td>\n",
       "    </tr>\n",
       "    <tr>\n",
       "      <th>2847</th>\n",
       "      <td>3239</td>\n",
       "      <td>📣 PreParty of the City Day for homies \"Super I...</td>\n",
       "      <td>PreParty of the City Day for homies \"Super Inn...</td>\n",
       "      <td>None</td>\n",
       "    </tr>\n",
       "    <tr>\n",
       "      <th>2848</th>\n",
       "      <td>3240</td>\n",
       "      <td>🚀 International Acceleration Program 2025\\n\\nT...</td>\n",
       "      <td>International Acceleration Program 2025 The pr...</td>\n",
       "      <td>None</td>\n",
       "    </tr>\n",
       "    <tr>\n",
       "      <th>2849</th>\n",
       "      <td>3241</td>\n",
       "      <td>📣Open lectures for Employees and Students by A...</td>\n",
       "      <td>Open lectures for Employees and Students by Al...</td>\n",
       "      <td>None</td>\n",
       "    </tr>\n",
       "  </tbody>\n",
       "</table>\n",
       "<p>2850 rows × 4 columns</p>\n",
       "</div>"
      ],
      "text/plain": [
       "      post_id                                               post  \\\n",
       "0           3  Dear students,\\n\\nThis channel advertises mino...   \n",
       "1           6  📣Hi there!\\n\\nStudent Affairs is urgently look...   \n",
       "2           7  📣Hi there! Want any of these?\\n\\nStudent Affai...   \n",
       "3           8  Bonjour! Ça va?\\nС'est la vie.. \\nCroissant.\\n...   \n",
       "4           9  📣On December 14, comedian Vladimir Marconi arr...   \n",
       "...       ...                                                ...   \n",
       "2845     3237  🔥 \"Slippers of the Year\" Contest!\\n\\nYour slip...   \n",
       "2846     3238  🌍 ECO ACTION for World Environment Day!\\n\\n5 J...   \n",
       "2847     3239  📣 PreParty of the City Day for homies \"Super I...   \n",
       "2848     3240  🚀 International Acceleration Program 2025\\n\\nT...   \n",
       "2849     3241  📣Open lectures for Employees and Students by A...   \n",
       "\n",
       "                                      preprocessed_post embedding  \n",
       "0     Dear students, This channel advertises minor e...      None  \n",
       "1     Hi there! Student Affairs is urgently looking ...      None  \n",
       "2     Hi there! Want any of these? Student Affairs a...      None  \n",
       "3     Bonjour! Ça va? С'est la vie.. Croissant. If t...      None  \n",
       "4     On December 14, comedian Vladimir Marconi arri...      None  \n",
       "...                                                 ...       ...  \n",
       "2845  \"Slippers of the Year\" Contest! Your slippers ...      None  \n",
       "2846  ECO ACTION for World Environment Day! 5 June i...      None  \n",
       "2847  PreParty of the City Day for homies \"Super Inn...      None  \n",
       "2848  International Acceleration Program 2025 The pr...      None  \n",
       "2849  Open lectures for Employees and Students by Al...      None  \n",
       "\n",
       "[2850 rows x 4 columns]"
      ]
     },
     "execution_count": 6,
     "metadata": {},
     "output_type": "execute_result"
    }
   ],
   "source": [
    "df_posts"
   ]
  },
  {
   "cell_type": "markdown",
   "id": "7c48c1a1",
   "metadata": {},
   "source": [
    "# Populate the `embedding` field of the table"
   ]
  },
  {
   "cell_type": "code",
   "execution_count": 7,
   "id": "5ea4a2a0",
   "metadata": {},
   "outputs": [
    {
     "data": {
      "text/plain": [
       "Ellipsis"
      ]
     },
     "execution_count": 7,
     "metadata": {},
     "output_type": "execute_result"
    }
   ],
   "source": [
    "..."
   ]
  }
 ],
 "metadata": {
  "kernelspec": {
   "display_name": ".venv",
   "language": "python",
   "name": "python3"
  },
  "language_info": {
   "codemirror_mode": {
    "name": "ipython",
    "version": 3
   },
   "file_extension": ".py",
   "mimetype": "text/x-python",
   "name": "python",
   "nbconvert_exporter": "python",
   "pygments_lexer": "ipython3",
   "version": "3.12.3"
  }
 },
 "nbformat": 4,
 "nbformat_minor": 5
}
