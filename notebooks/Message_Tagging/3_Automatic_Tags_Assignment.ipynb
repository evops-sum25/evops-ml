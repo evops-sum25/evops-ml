{
 "cells": [
  {
   "cell_type": "code",
   "execution_count": 45,
   "id": "7a8b6910",
   "metadata": {},
   "outputs": [],
   "source": [
    "from transformers import pipeline, AutoTokenizer\n",
    "import torch\n",
    "import json"
   ]
  },
  {
   "cell_type": "code",
   "execution_count": 46,
   "id": "0dbcc421",
   "metadata": {},
   "outputs": [],
   "source": [
    "# loading preliminary set of tags\n",
    "final_tags = {\n",
    "    # --- Primary Event & Opportunity Types ---\n",
    "    \"Workshop\",\n",
    "    \"Lecture\",\n",
    "    \"Seminar\",\n",
    "    \"Talk\",\n",
    "    \"Conference\",\n",
    "    \"Forum\",\n",
    "    \"Hackathon\",\n",
    "    \"Olympiad\",\n",
    "    \"Contest\",\n",
    "    \"Festival\",\n",
    "    \"Job Fair\",\n",
    "    \"Master Class\",\n",
    "    \"Club Meeting\",\n",
    "    \"Ball\",\n",
    "    \"Concert\",\n",
    "    \"Party\",\n",
    "    \"Quiz\",\n",
    "    \"Game\",\n",
    "    \"Internship\",\n",
    "    \"Volunteering\",\n",
    "    # --- Common Topics ---\n",
    "    \"Programming\",\n",
    "    \"Artificial Intelligence\",\n",
    "    \"Computer Science\",\n",
    "    \"Machine Learning\",\n",
    "    \"Data Science\",\n",
    "    \"Cybersecurity\",\n",
    "    \"Robotics\",\n",
    "    \"Science\",\n",
    "    \"Mathematics\",\n",
    "    \"Physics\",\n",
    "    \"Business\",\n",
    "    \"Startups\",\n",
    "    \"Design\",\n",
    "    \"Art\",\n",
    "    \"Music\",\n",
    "    \"Dance\",\n",
    "    \"Sports\",\n",
    "    \"Language Learning\"\n",
    "}\n",
    "\n",
    "final_tags = list(final_tags)\n",
    "\n",
    "# loading preprocessed messages\n",
    "with open(\"data/o4u_preprocessed_messages_Jun_07_2025.json\", \"r\", encoding=\"utf-8\") as f:\n",
    "    json_string = f.read()\n",
    "event_texts = json.loads(json_string)"
   ]
  },
  {
   "cell_type": "code",
   "execution_count": 48,
   "id": "35e08f39",
   "metadata": {},
   "outputs": [
    {
     "name": "stderr",
     "output_type": "stream",
     "text": [
      "Device set to use cpu\n"
     ]
    },
    {
     "name": "stdout",
     "output_type": "stream",
     "text": [
      "Dear students, This channel advertises minor extracurricular activities, internal and external events, hackathons, competitions, campaigns and other potentially interesting happenings. All mentioned is supposed to help you to keep informed about additional opportunities for own personal and professional development. Keep in touch! \n",
      "Tags: [(0.8832920789718628, 'Hackathon'), (0.8111681342124939, 'Forum')] \n",
      "\n",
      "Hi there! Student Affairs is urgently looking for 3 volunteers to help with administrative work today from 15:30 until 18:00. Your efforts will be compensated with: - innopoints - tea cookies, if you like - friendly 319 team - amazing reputation in the future! If you may help please message andrejsblakunovs \n",
      "Tags: [(0.9704569578170776, 'Volunteering')] \n",
      "\n",
      "Hi there! Want any of these? Student Affairs are looking for volunteers to help with administrative work - today 15:00-17:00 or - tomorrow in 319 from 14:00 to 16:00. Your efforts will be compensated with: - IBC 2019 T-shirt - tea cookies, if you like - friendliness of 319 team! If you may help please message andrejsblakunovs \n",
      "Tags: [(0.9773339629173279, 'Volunteering'), (0.808468759059906, 'Job Fair')] \n",
      "\n",
      "Bonjour! Ça va? С'est la vie.. Croissant. If these words sound familiar to you, then maybe you know something about French Language TODAY Language Club invites you to the open French lesson for beginners by Aliance Francaise : in room 320! Lesson will be held in Russian Do not hesitate to contact alikhil or snidjett with any questions. \n",
      "Tags: [(0.8995368480682373, 'Language Learning')] \n",
      "\n",
      "On December 14, comedian Vladimir Marconi arrives in Innopolis. He, together with the mayor's office and his film crew, will shoot a video about residents of the city preparing for the New Year. Students will be working closely with Vladimir Marconi to produce a couple of comical videos. Students must have a sense of self-irony. If you want to work in this project, message AnyaProkhorenko by the end of Friday, November 22. \n",
      "Tags: [(0.9068688750267029, 'Internship')] \n",
      "\n"
     ]
    }
   ],
   "source": [
    "tokenizer = AutoTokenizer.from_pretrained('sileod/deberta-v3-base-tasksource-nli', model_max_length=512)\n",
    "\n",
    "classifier = pipeline(\n",
    "    \"zero-shot-classification\",\n",
    "    model='sileod/deberta-v3-base-tasksource-nli',\n",
    "    tokenizer=tokenizer,\n",
    "    device=0 if torch.cuda.is_available() else -1\n",
    ")\n",
    "\n",
    "def get_relevant_tags(event_description, all_tags, threshold):\n",
    "    '''\n",
    "    Identifies relevant tags for an event description using zero-shot classification.\n",
    "    Returns tags with confidence scores above the specified threshold.\n",
    "\n",
    "    Args:\n",
    "        event_description (str): Text description of the event to classify\n",
    "        all_tags (list):         Candidate tags for classification\n",
    "        threshold (float):       Minimum confidence score (0.0-1.0) for tag inclusion\n",
    "\n",
    "    Returns:\n",
    "        list: Tuples of (confidence_score, tag) filtered by threshold,\n",
    "               sorted by descending confidence (order from classifier output)\n",
    "    '''\n",
    "    result = classifier(\n",
    "        event_description,\n",
    "        candidate_labels=all_tags,\n",
    "        truncation=True,\n",
    "        multi_label=True\n",
    "    )\n",
    "    \n",
    "    relevant_tags = [\n",
    "        (score, tag) for tag, score in zip(result['labels'], result['scores'])\n",
    "        if score >= threshold\n",
    "    ]\n",
    "    \n",
    "    return relevant_tags\n",
    "\n",
    "    \n",
    "for desc in event_texts[:5]:\n",
    "        selected_tags = get_relevant_tags(\n",
    "            event_description=desc,\n",
    "            all_tags=final_tags,\n",
    "            threshold=0.8 # empirically chosen\n",
    "        )\n",
    "        print(desc, \"\\nTags:\", selected_tags, '\\n')"
   ]
  }
 ],
 "metadata": {
  "kernelspec": {
   "display_name": "base",
   "language": "python",
   "name": "python3"
  },
  "language_info": {
   "codemirror_mode": {
    "name": "ipython",
    "version": 3
   },
   "file_extension": ".py",
   "mimetype": "text/x-python",
   "name": "python",
   "nbconvert_exporter": "python",
   "pygments_lexer": "ipython3",
   "version": "3.12.7"
  }
 },
 "nbformat": 4,
 "nbformat_minor": 5
}
