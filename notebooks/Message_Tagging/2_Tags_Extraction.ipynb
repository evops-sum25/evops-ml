{
 "cells": [
  {
   "cell_type": "code",
   "execution_count": 1,
   "id": "53d8f109",
   "metadata": {},
   "outputs": [
    {
     "name": "stdout",
     "output_type": "stream",
     "text": [
      "Requirement already satisfied: yake in /home/fullerite/Documents/VSCode/EvOps/evops-ml/.venv/lib/python3.12/site-packages (0.4.8)\n",
      "Requirement already satisfied: tabulate in /home/fullerite/Documents/VSCode/EvOps/evops-ml/.venv/lib/python3.12/site-packages (from yake) (0.9.0)\n",
      "Requirement already satisfied: click>=6.0 in /home/fullerite/Documents/VSCode/EvOps/evops-ml/.venv/lib/python3.12/site-packages (from yake) (8.2.1)\n",
      "Requirement already satisfied: numpy in /home/fullerite/Documents/VSCode/EvOps/evops-ml/.venv/lib/python3.12/site-packages (from yake) (2.3.0)\n",
      "Requirement already satisfied: segtok in /home/fullerite/Documents/VSCode/EvOps/evops-ml/.venv/lib/python3.12/site-packages (from yake) (1.5.11)\n",
      "Requirement already satisfied: networkx in /home/fullerite/Documents/VSCode/EvOps/evops-ml/.venv/lib/python3.12/site-packages (from yake) (3.5)\n",
      "Requirement already satisfied: jellyfish in /home/fullerite/Documents/VSCode/EvOps/evops-ml/.venv/lib/python3.12/site-packages (from yake) (1.2.0)\n",
      "Requirement already satisfied: regex in /home/fullerite/Documents/VSCode/EvOps/evops-ml/.venv/lib/python3.12/site-packages (from segtok->yake) (2024.11.6)\n",
      "Note: you may need to restart the kernel to use updated packages.\n"
     ]
    }
   ],
   "source": [
    "%pip install yake"
   ]
  },
  {
   "cell_type": "code",
   "execution_count": 2,
   "id": "381caa2b",
   "metadata": {},
   "outputs": [],
   "source": [
    "import json\n",
    "from yake import KeywordExtractor\n",
    "from collections import Counter"
   ]
  },
  {
   "cell_type": "markdown",
   "id": "434d6633",
   "metadata": {},
   "source": [
    "## Read preprocessed text corpus"
   ]
  },
  {
   "cell_type": "code",
   "execution_count": 3,
   "id": "65db8046",
   "metadata": {},
   "outputs": [
    {
     "name": "stdout",
     "output_type": "stream",
     "text": [
      "['Dear students, This channel advertises minor extracurricular activities, internal and external events, hackathons, competitions, campaigns and other potentially interesting happenings. All mentioned is supposed to help you to keep informed about additional opportunities for own personal and professional development. Keep in touch!', 'Hi there! Student Affairs is urgently looking for 3 volunteers to help with administrative work today from 15:30 until 18:00. Your efforts will be compensated with: - innopoints - tea cookies, if you like - friendly 319 team - amazing reputation in the future! If you may help please message andrejsblakunovs', 'Hi there! Want any of these? Student Affairs are looking for volunteers to help with administrative work - today 15:00-17:00 or - tomorrow in 319 from 14:00 to 16:00. Your efforts will be compensated with: - IBC 2019 T-shirt - tea cookies, if you like - friendliness of 319 team! If you may help please message andrejsblakunovs', \"Bonjour! Ça va? С'est la vie.. Croissant. If these words sound familiar to you, then maybe you know something about French Language TODAY Language Club invites you to the open French lesson for beginners by Aliance Francaise : in room 320! Lesson will be held in Russian Do not hesitate to contact alikhil or snidjett with any questions.\", \"On December 14, comedian Vladimir Marconi arrives in Innopolis. He, together with the mayor's office and his film crew, will shoot a video about residents of the city preparing for the New Year. Students will be working closely with Vladimir Marconi to produce a couple of comical videos. Students must have a sense of self-irony. If you want to work in this project, message AnyaProkhorenko by the end of Friday, November 22.\"]\n"
     ]
    }
   ],
   "source": [
    "with open(\"data/o4u_preprocessed_messages_Jun_07_2025.json\", \"r\") as f:\n",
    "    texts = json.load(f)\n",
    "\n",
    "print(texts[:5])"
   ]
  },
  {
   "cell_type": "markdown",
   "id": "05f263bd",
   "metadata": {},
   "source": [
    "## Extract potential keywords"
   ]
  },
  {
   "cell_type": "code",
   "execution_count": 4,
   "id": "381959ac",
   "metadata": {},
   "outputs": [],
   "source": [
    "MAX_NUM_NGRAM = 2\n",
    "MAX_NUM_KEYWORDS = 10\n",
    "\n",
    "custom_stopwords = {\n",
    "    \"a\", \"an\", \"and\", \"the\", \"in\", \"on\", \"for\", \"to\", \"with\", \"of\", \"is\", \"are\", \n",
    "    \"was\", \"were\", \"it\", \"that\", \"this\", \"you\", \"he\", \"she\", \"they\", \"we\", \"i\",\n",
    "    \"or\", \"but\", \"at\", \"by\", \"from\", \"be\", \"as\", \"about\", \"your\", \"have\", \"has\", \"had\"\n",
    "    \"innopolis\", \"university\", \"iu\",\n",
    "    \"dear\", \"students\", \"join\", \"invite\", \"invites\", \"room\", \"hall\",\n",
    "    \"monday\", \"tuesday\", \"wednesday\", \"thursday\", \"friday\", \"saturday\",\n",
    "    \"sunday\", \"today\", \"tomorrow\", \"yesterday\",\n",
    "    \"january\", \"february\", \"march\", \"april\", \"may\", \"june\",\n",
    "    \"july\", \"august\", \"september\", \"october\", \"november\", \"december\"\n",
    "}\n",
    "\n",
    "kw_extractor = KeywordExtractor(\n",
    "    n=MAX_NUM_NGRAM,\n",
    "    top=MAX_NUM_KEYWORDS,\n",
    "    windowsSize=2,\n",
    "    stopwords=custom_stopwords\n",
    ")\n",
    "\n"
   ]
  },
  {
   "cell_type": "code",
   "execution_count": 5,
   "id": "14d24f40",
   "metadata": {},
   "outputs": [
    {
     "data": {
      "text/plain": [
       "[('Student Affairs', np.float64(0.13852360513076734)),\n",
       " ('there', np.float64(0.16526509993669602)),\n",
       " ('until 18:00', np.float64(0.2888479059923554)),\n",
       " ('Affairs', np.float64(0.2986136531614795)),\n",
       " ('innopoints', np.float64(0.30807788090138477)),\n",
       " ('help', np.float64(0.3335343196299429)),\n",
       " ('tea cookies', np.float64(0.3341383705148965)),\n",
       " ('Student', np.float64(0.40744790190646923)),\n",
       " ('18:00', np.float64(0.40744790190646923)),\n",
       " ('urgently looking', np.float64(0.433785625834595))]"
      ]
     },
     "execution_count": 5,
     "metadata": {},
     "output_type": "execute_result"
    }
   ],
   "source": [
    "sorted(kw_extractor.extract_keywords(texts[1]), key=lambda x: x[1])"
   ]
  },
  {
   "cell_type": "code",
   "execution_count": 6,
   "id": "6401a4c1",
   "metadata": {},
   "outputs": [
    {
     "name": "stdout",
     "output_type": "stream",
     "text": [
      "14225\n"
     ]
    }
   ],
   "source": [
    "extracted_keywords = []\n",
    "for text in texts:\n",
    "    keywords_scores = sorted(kw_extractor.extract_keywords(text), key=lambda x: x[1])\n",
    "    if keywords_scores:\n",
    "        keywords = [kw[0].lower() for kw in keywords_scores]\n",
    "        extracted_keywords.extend(keywords[:5])\n",
    "\n",
    "print(len(extracted_keywords))"
   ]
  },
  {
   "cell_type": "code",
   "execution_count": 7,
   "id": "7954ea8a",
   "metadata": {},
   "outputs": [],
   "source": [
    "keyword_counter = Counter(extracted_keywords)"
   ]
  },
  {
   "cell_type": "code",
   "execution_count": 12,
   "id": "7ea25630",
   "metadata": {},
   "outputs": [],
   "source": [
    "popular_keywords = sorted(\n",
    "    [(kw, cnt) for kw, cnt in keyword_counter.items() if cnt > 10],\n",
    "    key=lambda x: x[1],\n",
    "    reverse=True\n",
    ")"
   ]
  },
  {
   "cell_type": "code",
   "execution_count": 13,
   "id": "d1891542",
   "metadata": {},
   "outputs": [
    {
     "name": "stdout",
     "output_type": "stream",
     "text": [
      "'visiting lecturer' 125\n",
      "'reminder' 115\n",
      "'lecturer candidate' 112\n",
      "'innopolis' 103\n",
      "'new visiting' 100\n",
      "'candidate talk' 82\n",
      "'inno stand' 79\n",
      "'friendly reminder' 67\n",
      "'club' 59\n",
      "'take part' 54\n",
      "'new year' 52\n",
      "'international fest' 45\n",
      "'candidate lecture' 45\n",
      "'friendly' 45\n",
      "'day' 41\n",
      "'got talent' 41\n",
      "'artificial intelligence' 40\n",
      "'inno got' 37\n",
      "'stand' 35\n",
      "'year' 35\n",
      "'russian' 31\n",
      "'new faculty' 31\n",
      "'will' 30\n",
      "'new' 29\n",
      "'russian federation' 29\n",
      "'international' 29\n",
      "'fest' 25\n",
      "'master class' 24\n",
      "'iustudentnews good' 24\n",
      "'friends' 23\n",
      "'summer school' 23\n",
      "'spring ball' 22\n",
      "'faculty candidate' 22\n",
      "'ball' 21\n",
      "'information security' 21\n",
      "'those who' 19\n",
      "'sport complex' 19\n",
      "'iustudentnews hello' 19\n",
      "'lounge zone' 18\n",
      "'inno' 18\n",
      "'good evening' 18\n",
      "'student' 17\n",
      "'what' 17\n",
      "'rage club' 17\n",
      "'quiz' 17\n",
      "'spring' 16\n",
      "'olympiad' 16\n",
      "'твой ход' 16\n",
      "'lecture seminar' 16\n",
      "'candidate class' 16\n",
      "'good' 16\n",
      "'art' 15\n",
      "'volunteering opportunity' 15\n",
      "'club fest' 15\n",
      "'tatarstan' 15\n",
      "'lecture' 15\n",
      "'dance day' 15\n",
      "'our' 14\n",
      "'volunteers wanted' 14\n",
      "'kazan digital' 14\n",
      "'application deadline' 14\n",
      "'russia' 14\n",
      "'slippers' 14\n",
      "'festival' 13\n",
      "'machine learning' 13\n",
      "'digital week' 13\n",
      "'team' 13\n",
      "'job fair' 13\n",
      "'young people' 13\n",
      "'seminar lecture' 13\n",
      "'want' 12\n",
      "'who want' 12\n",
      "'digital' 12\n",
      "'prize fund' 12\n",
      "'football club' 12\n",
      "'open mic' 12\n",
      "'computer science' 12\n",
      "'digital transformation' 12\n",
      "'international forum' 12\n",
      "'startup studio' 12\n",
      "'candidate seminar' 12\n",
      "'slippers party' 12\n",
      "'get ready' 12\n",
      "'secret santa' 11\n",
      "'coming soon' 11\n",
      "'therapy' 11\n",
      "'course' 11\n",
      "'kazan' 11\n",
      "'contest' 11\n",
      "'sports programming' 11\n",
      "'youth forum' 11\n",
      "'how' 11\n",
      "'online hackathon' 11\n",
      "'first meeting' 11\n",
      "'street dance' 11\n",
      "'green stairs' 11\n",
      "'russian venture' 11\n",
      "'valentine day' 11\n",
      "'innopolis city' 11\n",
      "'get' 11\n",
      "'event' 11\n",
      "'innostreetdance club' 11\n"
     ]
    }
   ],
   "source": [
    "for kw, cnt in popular_keywords:\n",
    "    print(repr(kw), cnt)"
   ]
  }
 ],
 "metadata": {
  "kernelspec": {
   "display_name": ".venv",
   "language": "python",
   "name": "python3"
  },
  "language_info": {
   "codemirror_mode": {
    "name": "ipython",
    "version": 3
   },
   "file_extension": ".py",
   "mimetype": "text/x-python",
   "name": "python",
   "nbconvert_exporter": "python",
   "pygments_lexer": "ipython3",
   "version": "3.12.3"
  }
 },
 "nbformat": 4,
 "nbformat_minor": 5
}
