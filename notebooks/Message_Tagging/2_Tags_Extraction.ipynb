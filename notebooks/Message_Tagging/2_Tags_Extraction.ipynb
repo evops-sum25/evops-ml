{
 "cells": [
  {
   "cell_type": "code",
   "execution_count": 2,
   "id": "52f42d83-aa96-4b34-a354-461ea812b72c",
   "metadata": {
    "execution": {
     "iopub.execute_input": "2025-06-11T12:40:46.841857Z",
     "iopub.status.busy": "2025-06-11T12:40:46.841582Z",
     "iopub.status.idle": "2025-06-11T12:42:24.115700Z",
     "shell.execute_reply": "2025-06-11T12:42:24.114755Z",
     "shell.execute_reply.started": "2025-06-11T12:40:46.841836Z"
    },
    "trusted": true
   },
   "outputs": [
    {
     "name": "stdout",
     "output_type": "stream",
     "text": [
      "Collecting yake\n",
      "  Downloading yake-0.4.8-py2.py3-none-any.whl.metadata (4.0 kB)\n",
      "Requirement already satisfied: spacy in /usr/local/lib/python3.11/dist-packages (3.8.5)\n",
      "Requirement already satisfied: sentence-transformers in /usr/local/lib/python3.11/dist-packages (3.4.1)\n",
      "Requirement already satisfied: scikit-learn in /usr/local/lib/python3.11/dist-packages (1.2.2)\n",
      "Requirement already satisfied: pandas in /usr/local/lib/python3.11/dist-packages (2.2.3)\n",
      "Requirement already satisfied: numpy in /usr/local/lib/python3.11/dist-packages (1.26.4)\n",
      "Requirement already satisfied: ipywidgets in /usr/local/lib/python3.11/dist-packages (8.1.5)\n",
      "Requirement already satisfied: tqdm in /usr/local/lib/python3.11/dist-packages (4.67.1)\n",
      "Requirement already satisfied: tabulate in /usr/local/lib/python3.11/dist-packages (from yake) (0.9.0)\n",
      "Requirement already satisfied: click>=6.0 in /usr/local/lib/python3.11/dist-packages (from yake) (8.1.8)\n",
      "Collecting segtok (from yake)\n",
      "  Downloading segtok-1.5.11-py3-none-any.whl.metadata (9.0 kB)\n",
      "Requirement already satisfied: networkx in /usr/local/lib/python3.11/dist-packages (from yake) (3.4.2)\n",
      "Requirement already satisfied: jellyfish in /usr/local/lib/python3.11/dist-packages (from yake) (1.1.0)\n",
      "Requirement already satisfied: spacy-legacy<3.1.0,>=3.0.11 in /usr/local/lib/python3.11/dist-packages (from spacy) (3.0.12)\n",
      "Requirement already satisfied: spacy-loggers<2.0.0,>=1.0.0 in /usr/local/lib/python3.11/dist-packages (from spacy) (1.0.5)\n",
      "Requirement already satisfied: murmurhash<1.1.0,>=0.28.0 in /usr/local/lib/python3.11/dist-packages (from spacy) (1.0.12)\n",
      "Requirement already satisfied: cymem<2.1.0,>=2.0.2 in /usr/local/lib/python3.11/dist-packages (from spacy) (2.0.11)\n",
      "Requirement already satisfied: preshed<3.1.0,>=3.0.2 in /usr/local/lib/python3.11/dist-packages (from spacy) (3.0.9)\n",
      "Requirement already satisfied: thinc<8.4.0,>=8.3.4 in /usr/local/lib/python3.11/dist-packages (from spacy) (8.3.4)\n",
      "Requirement already satisfied: wasabi<1.2.0,>=0.9.1 in /usr/local/lib/python3.11/dist-packages (from spacy) (1.1.3)\n",
      "Requirement already satisfied: srsly<3.0.0,>=2.4.3 in /usr/local/lib/python3.11/dist-packages (from spacy) (2.5.1)\n",
      "Requirement already satisfied: catalogue<2.1.0,>=2.0.6 in /usr/local/lib/python3.11/dist-packages (from spacy) (2.0.10)\n",
      "Requirement already satisfied: weasel<0.5.0,>=0.1.0 in /usr/local/lib/python3.11/dist-packages (from spacy) (0.4.1)\n",
      "Requirement already satisfied: typer<1.0.0,>=0.3.0 in /usr/local/lib/python3.11/dist-packages (from spacy) (0.15.2)\n",
      "Requirement already satisfied: requests<3.0.0,>=2.13.0 in /usr/local/lib/python3.11/dist-packages (from spacy) (2.32.3)\n",
      "Requirement already satisfied: pydantic!=1.8,!=1.8.1,<3.0.0,>=1.7.4 in /usr/local/lib/python3.11/dist-packages (from spacy) (2.11.4)\n",
      "Requirement already satisfied: jinja2 in /usr/local/lib/python3.11/dist-packages (from spacy) (3.1.6)\n",
      "Requirement already satisfied: setuptools in /usr/local/lib/python3.11/dist-packages (from spacy) (75.2.0)\n",
      "Requirement already satisfied: packaging>=20.0 in /usr/local/lib/python3.11/dist-packages (from spacy) (25.0)\n",
      "Requirement already satisfied: langcodes<4.0.0,>=3.2.0 in /usr/local/lib/python3.11/dist-packages (from spacy) (3.5.0)\n",
      "Requirement already satisfied: transformers<5.0.0,>=4.41.0 in /usr/local/lib/python3.11/dist-packages (from sentence-transformers) (4.51.3)\n",
      "Requirement already satisfied: torch>=1.11.0 in /usr/local/lib/python3.11/dist-packages (from sentence-transformers) (2.6.0+cu124)\n",
      "Requirement already satisfied: scipy in /usr/local/lib/python3.11/dist-packages (from sentence-transformers) (1.15.2)\n",
      "Requirement already satisfied: huggingface-hub>=0.20.0 in /usr/local/lib/python3.11/dist-packages (from sentence-transformers) (0.31.1)\n",
      "Requirement already satisfied: Pillow in /usr/local/lib/python3.11/dist-packages (from sentence-transformers) (11.1.0)\n",
      "Requirement already satisfied: joblib>=1.1.1 in /usr/local/lib/python3.11/dist-packages (from scikit-learn) (1.5.0)\n",
      "Requirement already satisfied: threadpoolctl>=2.0.0 in /usr/local/lib/python3.11/dist-packages (from scikit-learn) (3.6.0)\n",
      "Requirement already satisfied: python-dateutil>=2.8.2 in /usr/local/lib/python3.11/dist-packages (from pandas) (2.9.0.post0)\n",
      "Requirement already satisfied: pytz>=2020.1 in /usr/local/lib/python3.11/dist-packages (from pandas) (2025.2)\n",
      "Requirement already satisfied: tzdata>=2022.7 in /usr/local/lib/python3.11/dist-packages (from pandas) (2025.2)\n",
      "Requirement already satisfied: mkl_fft in /usr/local/lib/python3.11/dist-packages (from numpy) (1.3.8)\n",
      "Requirement already satisfied: mkl_random in /usr/local/lib/python3.11/dist-packages (from numpy) (1.2.4)\n",
      "Requirement already satisfied: mkl_umath in /usr/local/lib/python3.11/dist-packages (from numpy) (0.1.1)\n",
      "Requirement already satisfied: mkl in /usr/local/lib/python3.11/dist-packages (from numpy) (2025.1.0)\n",
      "Requirement already satisfied: tbb4py in /usr/local/lib/python3.11/dist-packages (from numpy) (2022.1.0)\n",
      "Requirement already satisfied: mkl-service in /usr/local/lib/python3.11/dist-packages (from numpy) (2.4.1)\n",
      "Requirement already satisfied: comm>=0.1.3 in /usr/local/lib/python3.11/dist-packages (from ipywidgets) (0.2.2)\n",
      "Requirement already satisfied: ipython>=6.1.0 in /usr/local/lib/python3.11/dist-packages (from ipywidgets) (7.34.0)\n",
      "Requirement already satisfied: traitlets>=4.3.1 in /usr/local/lib/python3.11/dist-packages (from ipywidgets) (5.7.1)\n",
      "Requirement already satisfied: widgetsnbextension~=4.0.12 in /usr/local/lib/python3.11/dist-packages (from ipywidgets) (4.0.14)\n",
      "Requirement already satisfied: jupyterlab-widgets~=3.0.12 in /usr/local/lib/python3.11/dist-packages (from ipywidgets) (3.0.13)\n",
      "Requirement already satisfied: filelock in /usr/local/lib/python3.11/dist-packages (from huggingface-hub>=0.20.0->sentence-transformers) (3.18.0)\n",
      "Requirement already satisfied: fsspec>=2023.5.0 in /usr/local/lib/python3.11/dist-packages (from huggingface-hub>=0.20.0->sentence-transformers) (2025.3.2)\n",
      "Requirement already satisfied: pyyaml>=5.1 in /usr/local/lib/python3.11/dist-packages (from huggingface-hub>=0.20.0->sentence-transformers) (6.0.2)\n",
      "Requirement already satisfied: typing-extensions>=3.7.4.3 in /usr/local/lib/python3.11/dist-packages (from huggingface-hub>=0.20.0->sentence-transformers) (4.13.2)\n",
      "Requirement already satisfied: hf-xet<2.0.0,>=1.1.0 in /usr/local/lib/python3.11/dist-packages (from huggingface-hub>=0.20.0->sentence-transformers) (1.1.0)\n",
      "Requirement already satisfied: jedi>=0.16 in /usr/local/lib/python3.11/dist-packages (from ipython>=6.1.0->ipywidgets) (0.19.2)\n",
      "Requirement already satisfied: decorator in /usr/local/lib/python3.11/dist-packages (from ipython>=6.1.0->ipywidgets) (4.4.2)\n",
      "Requirement already satisfied: pickleshare in /usr/local/lib/python3.11/dist-packages (from ipython>=6.1.0->ipywidgets) (0.7.5)\n",
      "Requirement already satisfied: prompt-toolkit!=3.0.0,!=3.0.1,<3.1.0,>=2.0.0 in /usr/local/lib/python3.11/dist-packages (from ipython>=6.1.0->ipywidgets) (3.0.50)\n",
      "Requirement already satisfied: pygments in /usr/local/lib/python3.11/dist-packages (from ipython>=6.1.0->ipywidgets) (2.19.1)\n",
      "Requirement already satisfied: backcall in /usr/local/lib/python3.11/dist-packages (from ipython>=6.1.0->ipywidgets) (0.2.0)\n",
      "Requirement already satisfied: matplotlib-inline in /usr/local/lib/python3.11/dist-packages (from ipython>=6.1.0->ipywidgets) (0.1.7)\n",
      "Requirement already satisfied: pexpect>4.3 in /usr/local/lib/python3.11/dist-packages (from ipython>=6.1.0->ipywidgets) (4.9.0)\n",
      "Requirement already satisfied: language-data>=1.2 in /usr/local/lib/python3.11/dist-packages (from langcodes<4.0.0,>=3.2.0->spacy) (1.3.0)\n",
      "Requirement already satisfied: annotated-types>=0.6.0 in /usr/local/lib/python3.11/dist-packages (from pydantic!=1.8,!=1.8.1,<3.0.0,>=1.7.4->spacy) (0.7.0)\n",
      "Requirement already satisfied: pydantic-core==2.33.2 in /usr/local/lib/python3.11/dist-packages (from pydantic!=1.8,!=1.8.1,<3.0.0,>=1.7.4->spacy) (2.33.2)\n",
      "Requirement already satisfied: typing-inspection>=0.4.0 in /usr/local/lib/python3.11/dist-packages (from pydantic!=1.8,!=1.8.1,<3.0.0,>=1.7.4->spacy) (0.4.0)\n",
      "Requirement already satisfied: six>=1.5 in /usr/local/lib/python3.11/dist-packages (from python-dateutil>=2.8.2->pandas) (1.17.0)\n",
      "Requirement already satisfied: charset-normalizer<4,>=2 in /usr/local/lib/python3.11/dist-packages (from requests<3.0.0,>=2.13.0->spacy) (3.4.2)\n",
      "Requirement already satisfied: idna<4,>=2.5 in /usr/local/lib/python3.11/dist-packages (from requests<3.0.0,>=2.13.0->spacy) (3.10)\n",
      "Requirement already satisfied: urllib3<3,>=1.21.1 in /usr/local/lib/python3.11/dist-packages (from requests<3.0.0,>=2.13.0->spacy) (2.4.0)\n",
      "Requirement already satisfied: certifi>=2017.4.17 in /usr/local/lib/python3.11/dist-packages (from requests<3.0.0,>=2.13.0->spacy) (2025.4.26)\n",
      "Requirement already satisfied: blis<1.3.0,>=1.2.0 in /usr/local/lib/python3.11/dist-packages (from thinc<8.4.0,>=8.3.4->spacy) (1.2.1)\n",
      "Requirement already satisfied: confection<1.0.0,>=0.0.1 in /usr/local/lib/python3.11/dist-packages (from thinc<8.4.0,>=8.3.4->spacy) (0.1.5)\n",
      "Requirement already satisfied: nvidia-cuda-nvrtc-cu12==12.4.127 in /usr/local/lib/python3.11/dist-packages (from torch>=1.11.0->sentence-transformers) (12.4.127)\n",
      "Requirement already satisfied: nvidia-cuda-runtime-cu12==12.4.127 in /usr/local/lib/python3.11/dist-packages (from torch>=1.11.0->sentence-transformers) (12.4.127)\n",
      "Requirement already satisfied: nvidia-cuda-cupti-cu12==12.4.127 in /usr/local/lib/python3.11/dist-packages (from torch>=1.11.0->sentence-transformers) (12.4.127)\n",
      "Collecting nvidia-cudnn-cu12==9.1.0.70 (from torch>=1.11.0->sentence-transformers)\n",
      "  Downloading nvidia_cudnn_cu12-9.1.0.70-py3-none-manylinux2014_x86_64.whl.metadata (1.6 kB)\n",
      "Collecting nvidia-cublas-cu12==12.4.5.8 (from torch>=1.11.0->sentence-transformers)\n",
      "  Downloading nvidia_cublas_cu12-12.4.5.8-py3-none-manylinux2014_x86_64.whl.metadata (1.5 kB)\n",
      "Collecting nvidia-cufft-cu12==11.2.1.3 (from torch>=1.11.0->sentence-transformers)\n",
      "  Downloading nvidia_cufft_cu12-11.2.1.3-py3-none-manylinux2014_x86_64.whl.metadata (1.5 kB)\n",
      "Collecting nvidia-curand-cu12==10.3.5.147 (from torch>=1.11.0->sentence-transformers)\n",
      "  Downloading nvidia_curand_cu12-10.3.5.147-py3-none-manylinux2014_x86_64.whl.metadata (1.5 kB)\n",
      "Collecting nvidia-cusolver-cu12==11.6.1.9 (from torch>=1.11.0->sentence-transformers)\n",
      "  Downloading nvidia_cusolver_cu12-11.6.1.9-py3-none-manylinux2014_x86_64.whl.metadata (1.6 kB)\n",
      "Collecting nvidia-cusparse-cu12==12.3.1.170 (from torch>=1.11.0->sentence-transformers)\n",
      "  Downloading nvidia_cusparse_cu12-12.3.1.170-py3-none-manylinux2014_x86_64.whl.metadata (1.6 kB)\n",
      "Requirement already satisfied: nvidia-cusparselt-cu12==0.6.2 in /usr/local/lib/python3.11/dist-packages (from torch>=1.11.0->sentence-transformers) (0.6.2)\n",
      "Requirement already satisfied: nvidia-nccl-cu12==2.21.5 in /usr/local/lib/python3.11/dist-packages (from torch>=1.11.0->sentence-transformers) (2.21.5)\n",
      "Requirement already satisfied: nvidia-nvtx-cu12==12.4.127 in /usr/local/lib/python3.11/dist-packages (from torch>=1.11.0->sentence-transformers) (12.4.127)\n",
      "Collecting nvidia-nvjitlink-cu12==12.4.127 (from torch>=1.11.0->sentence-transformers)\n",
      "  Downloading nvidia_nvjitlink_cu12-12.4.127-py3-none-manylinux2014_x86_64.whl.metadata (1.5 kB)\n",
      "Requirement already satisfied: triton==3.2.0 in /usr/local/lib/python3.11/dist-packages (from torch>=1.11.0->sentence-transformers) (3.2.0)\n",
      "Requirement already satisfied: sympy==1.13.1 in /usr/local/lib/python3.11/dist-packages (from torch>=1.11.0->sentence-transformers) (1.13.1)\n",
      "Requirement already satisfied: mpmath<1.4,>=1.1.0 in /usr/local/lib/python3.11/dist-packages (from sympy==1.13.1->torch>=1.11.0->sentence-transformers) (1.3.0)\n",
      "Requirement already satisfied: regex!=2019.12.17 in /usr/local/lib/python3.11/dist-packages (from transformers<5.0.0,>=4.41.0->sentence-transformers) (2024.11.6)\n",
      "Requirement already satisfied: tokenizers<0.22,>=0.21 in /usr/local/lib/python3.11/dist-packages (from transformers<5.0.0,>=4.41.0->sentence-transformers) (0.21.1)\n",
      "Requirement already satisfied: safetensors>=0.4.3 in /usr/local/lib/python3.11/dist-packages (from transformers<5.0.0,>=4.41.0->sentence-transformers) (0.5.3)\n",
      "Requirement already satisfied: shellingham>=1.3.0 in /usr/local/lib/python3.11/dist-packages (from typer<1.0.0,>=0.3.0->spacy) (1.5.4)\n",
      "Requirement already satisfied: rich>=10.11.0 in /usr/local/lib/python3.11/dist-packages (from typer<1.0.0,>=0.3.0->spacy) (14.0.0)\n",
      "Requirement already satisfied: cloudpathlib<1.0.0,>=0.7.0 in /usr/local/lib/python3.11/dist-packages (from weasel<0.5.0,>=0.1.0->spacy) (0.21.0)\n",
      "Requirement already satisfied: smart-open<8.0.0,>=5.2.1 in /usr/local/lib/python3.11/dist-packages (from weasel<0.5.0,>=0.1.0->spacy) (7.1.0)\n",
      "Requirement already satisfied: MarkupSafe>=2.0 in /usr/local/lib/python3.11/dist-packages (from jinja2->spacy) (3.0.2)\n",
      "Requirement already satisfied: intel-openmp<2026,>=2024 in /usr/local/lib/python3.11/dist-packages (from mkl->numpy) (2024.2.0)\n",
      "Requirement already satisfied: tbb==2022.* in /usr/local/lib/python3.11/dist-packages (from mkl->numpy) (2022.1.0)\n",
      "Requirement already satisfied: tcmlib==1.* in /usr/local/lib/python3.11/dist-packages (from tbb==2022.*->mkl->numpy) (1.3.0)\n",
      "Requirement already satisfied: intel-cmplr-lib-rt in /usr/local/lib/python3.11/dist-packages (from mkl_umath->numpy) (2024.2.0)\n",
      "Requirement already satisfied: intel-cmplr-lib-ur==2024.2.0 in /usr/local/lib/python3.11/dist-packages (from intel-openmp<2026,>=2024->mkl->numpy) (2024.2.0)\n",
      "Requirement already satisfied: parso<0.9.0,>=0.8.4 in /usr/local/lib/python3.11/dist-packages (from jedi>=0.16->ipython>=6.1.0->ipywidgets) (0.8.4)\n",
      "Requirement already satisfied: marisa-trie>=1.1.0 in /usr/local/lib/python3.11/dist-packages (from language-data>=1.2->langcodes<4.0.0,>=3.2.0->spacy) (1.2.1)\n",
      "Requirement already satisfied: ptyprocess>=0.5 in /usr/local/lib/python3.11/dist-packages (from pexpect>4.3->ipython>=6.1.0->ipywidgets) (0.7.0)\n",
      "Requirement already satisfied: wcwidth in /usr/local/lib/python3.11/dist-packages (from prompt-toolkit!=3.0.0,!=3.0.1,<3.1.0,>=2.0.0->ipython>=6.1.0->ipywidgets) (0.2.13)\n",
      "Requirement already satisfied: markdown-it-py>=2.2.0 in /usr/local/lib/python3.11/dist-packages (from rich>=10.11.0->typer<1.0.0,>=0.3.0->spacy) (3.0.0)\n",
      "Requirement already satisfied: wrapt in /usr/local/lib/python3.11/dist-packages (from smart-open<8.0.0,>=5.2.1->weasel<0.5.0,>=0.1.0->spacy) (1.17.2)\n",
      "Requirement already satisfied: mdurl~=0.1 in /usr/local/lib/python3.11/dist-packages (from markdown-it-py>=2.2.0->rich>=10.11.0->typer<1.0.0,>=0.3.0->spacy) (0.1.2)\n",
      "Downloading yake-0.4.8-py2.py3-none-any.whl (60 kB)\n",
      "\u001b[2K   \u001b[90m━━━━━━━━━━━━━━━━━━━━━━━━━━━━━━━━━━━━━━━━\u001b[0m \u001b[32m60.2/60.2 kB\u001b[0m \u001b[31m2.0 MB/s\u001b[0m eta \u001b[36m0:00:00\u001b[0m\n",
      "\u001b[?25hDownloading nvidia_cublas_cu12-12.4.5.8-py3-none-manylinux2014_x86_64.whl (363.4 MB)\n",
      "\u001b[2K   \u001b[90m━━━━━━━━━━━━━━━━━━━━━━━━━━━━━━━━━━━━━━━━\u001b[0m \u001b[32m363.4/363.4 MB\u001b[0m \u001b[31m4.5 MB/s\u001b[0m eta \u001b[36m0:00:00\u001b[0m0:00:01\u001b[0m00:01\u001b[0m\n",
      "\u001b[?25hDownloading nvidia_cudnn_cu12-9.1.0.70-py3-none-manylinux2014_x86_64.whl (664.8 MB)\n",
      "\u001b[2K   \u001b[90m━━━━━━━━━━━━━━━━━━━━━━━━━━━━━━━━━━━━━━━━\u001b[0m \u001b[32m664.8/664.8 MB\u001b[0m \u001b[31m2.4 MB/s\u001b[0m eta \u001b[36m0:00:00\u001b[0m0:00:01\u001b[0m00:01\u001b[0m\n",
      "\u001b[?25hDownloading nvidia_cufft_cu12-11.2.1.3-py3-none-manylinux2014_x86_64.whl (211.5 MB)\n",
      "\u001b[2K   \u001b[90m━━━━━━━━━━━━━━━━━━━━━━━━━━━━━━━━━━━━━━━━\u001b[0m \u001b[32m211.5/211.5 MB\u001b[0m \u001b[31m7.4 MB/s\u001b[0m eta \u001b[36m0:00:00\u001b[0m0:00:01\u001b[0m00:01\u001b[0m\n",
      "\u001b[?25hDownloading nvidia_curand_cu12-10.3.5.147-py3-none-manylinux2014_x86_64.whl (56.3 MB)\n",
      "\u001b[2K   \u001b[90m━━━━━━━━━━━━━━━━━━━━━━━━━━━━━━━━━━━━━━━━\u001b[0m \u001b[32m56.3/56.3 MB\u001b[0m \u001b[31m14.9 MB/s\u001b[0m eta \u001b[36m0:00:00\u001b[0m:00:01\u001b[0m00:01\u001b[0m\n",
      "\u001b[?25hDownloading nvidia_cusolver_cu12-11.6.1.9-py3-none-manylinux2014_x86_64.whl (127.9 MB)\n",
      "\u001b[2K   \u001b[90m━━━━━━━━━━━━━━━━━━━━━━━━━━━━━━━━━━━━━━━━\u001b[0m \u001b[32m127.9/127.9 MB\u001b[0m \u001b[31m12.3 MB/s\u001b[0m eta \u001b[36m0:00:00\u001b[0m:00:01\u001b[0m00:01\u001b[0m\n",
      "\u001b[?25hDownloading nvidia_cusparse_cu12-12.3.1.170-py3-none-manylinux2014_x86_64.whl (207.5 MB)\n",
      "\u001b[2K   \u001b[90m━━━━━━━━━━━━━━━━━━━━━━━━━━━━━━━━━━━━━━━━\u001b[0m \u001b[32m207.5/207.5 MB\u001b[0m \u001b[31m7.8 MB/s\u001b[0m eta \u001b[36m0:00:00\u001b[0m0:00:01\u001b[0m00:01\u001b[0m\n",
      "\u001b[?25hDownloading nvidia_nvjitlink_cu12-12.4.127-py3-none-manylinux2014_x86_64.whl (21.1 MB)\n",
      "\u001b[2K   \u001b[90m━━━━━━━━━━━━━━━━━━━━━━━━━━━━━━━━━━━━━━━━\u001b[0m \u001b[32m21.1/21.1 MB\u001b[0m \u001b[31m6.1 MB/s\u001b[0m eta \u001b[36m0:00:00\u001b[0m0:00:01\u001b[0m00:01\u001b[0m\n",
      "\u001b[?25hDownloading segtok-1.5.11-py3-none-any.whl (24 kB)\n",
      "Installing collected packages: segtok, nvidia-nvjitlink-cu12, nvidia-curand-cu12, nvidia-cufft-cu12, nvidia-cublas-cu12, nvidia-cusparse-cu12, nvidia-cudnn-cu12, nvidia-cusolver-cu12, yake\n",
      "  Attempting uninstall: nvidia-nvjitlink-cu12\n",
      "    Found existing installation: nvidia-nvjitlink-cu12 12.9.41\n",
      "    Uninstalling nvidia-nvjitlink-cu12-12.9.41:\n",
      "      Successfully uninstalled nvidia-nvjitlink-cu12-12.9.41\n",
      "  Attempting uninstall: nvidia-curand-cu12\n",
      "    Found existing installation: nvidia-curand-cu12 10.3.10.19\n",
      "    Uninstalling nvidia-curand-cu12-10.3.10.19:\n",
      "      Successfully uninstalled nvidia-curand-cu12-10.3.10.19\n",
      "  Attempting uninstall: nvidia-cufft-cu12\n",
      "    Found existing installation: nvidia-cufft-cu12 11.4.0.6\n",
      "    Uninstalling nvidia-cufft-cu12-11.4.0.6:\n",
      "      Successfully uninstalled nvidia-cufft-cu12-11.4.0.6\n",
      "  Attempting uninstall: nvidia-cublas-cu12\n",
      "    Found existing installation: nvidia-cublas-cu12 12.9.0.13\n",
      "    Uninstalling nvidia-cublas-cu12-12.9.0.13:\n",
      "      Successfully uninstalled nvidia-cublas-cu12-12.9.0.13\n",
      "  Attempting uninstall: nvidia-cusparse-cu12\n",
      "    Found existing installation: nvidia-cusparse-cu12 12.5.9.5\n",
      "    Uninstalling nvidia-cusparse-cu12-12.5.9.5:\n",
      "      Successfully uninstalled nvidia-cusparse-cu12-12.5.9.5\n",
      "  Attempting uninstall: nvidia-cudnn-cu12\n",
      "    Found existing installation: nvidia-cudnn-cu12 9.3.0.75\n",
      "    Uninstalling nvidia-cudnn-cu12-9.3.0.75:\n",
      "      Successfully uninstalled nvidia-cudnn-cu12-9.3.0.75\n",
      "  Attempting uninstall: nvidia-cusolver-cu12\n",
      "    Found existing installation: nvidia-cusolver-cu12 11.7.4.40\n",
      "    Uninstalling nvidia-cusolver-cu12-11.7.4.40:\n",
      "      Successfully uninstalled nvidia-cusolver-cu12-11.7.4.40\n",
      "Successfully installed nvidia-cublas-cu12-12.4.5.8 nvidia-cudnn-cu12-9.1.0.70 nvidia-cufft-cu12-11.2.1.3 nvidia-curand-cu12-10.3.5.147 nvidia-cusolver-cu12-11.6.1.9 nvidia-cusparse-cu12-12.3.1.170 nvidia-nvjitlink-cu12-12.4.127 segtok-1.5.11 yake-0.4.8\n",
      "Note: you may need to restart the kernel to use updated packages.\n",
      "Collecting en-core-web-sm==3.8.0\n",
      "  Downloading https://github.com/explosion/spacy-models/releases/download/en_core_web_sm-3.8.0/en_core_web_sm-3.8.0-py3-none-any.whl (12.8 MB)\n",
      "\u001b[2K     \u001b[90m━━━━━━━━━━━━━━━━━━━━━━━━━━━━━━━━━━━━━━━━\u001b[0m \u001b[32m12.8/12.8 MB\u001b[0m \u001b[31m85.0 MB/s\u001b[0m eta \u001b[36m0:00:00\u001b[0m:00:01\u001b[0m:01\u001b[0m\n",
      "\u001b[?25h\u001b[38;5;2m✔ Download and installation successful\u001b[0m\n",
      "You can now load the package via spacy.load('en_core_web_sm')\n",
      "\u001b[38;5;3m⚠ Restart to reload dependencies\u001b[0m\n",
      "If you are in a Jupyter or Colab notebook, you may need to restart Python in\n",
      "order to load all the package's dependencies. You can do this by selecting the\n",
      "'Restart kernel' or 'Restart runtime' option.\n"
     ]
    }
   ],
   "source": [
    "%pip install yake spacy sentence-transformers scikit-learn pandas numpy ipywidgets tqdm\n",
    "!python -m spacy download en_core_web_sm"
   ]
  },
  {
   "cell_type": "markdown",
   "id": "aed5d9d8-03e2-4710-aaa4-ccce3bc7ac98",
   "metadata": {},
   "source": [
    "# Read preprocessed text corpus"
   ]
  },
  {
   "cell_type": "code",
   "execution_count": 3,
   "id": "49fe1519-3b3a-46ed-baa9-433dd866f99d",
   "metadata": {
    "execution": {
     "iopub.execute_input": "2025-06-11T12:42:24.118043Z",
     "iopub.status.busy": "2025-06-11T12:42:24.117783Z",
     "iopub.status.idle": "2025-06-11T12:42:55.722774Z",
     "shell.execute_reply": "2025-06-11T12:42:55.721977Z",
     "shell.execute_reply.started": "2025-06-11T12:42:24.118017Z"
    },
    "trusted": true
   },
   "outputs": [
    {
     "name": "stderr",
     "output_type": "stream",
     "text": [
      "2025-06-11 12:42:37.889805: E external/local_xla/xla/stream_executor/cuda/cuda_fft.cc:477] Unable to register cuFFT factory: Attempting to register factory for plugin cuFFT when one has already been registered\n",
      "WARNING: All log messages before absl::InitializeLog() is called are written to STDERR\n",
      "E0000 00:00:1749645758.109794      35 cuda_dnn.cc:8310] Unable to register cuDNN factory: Attempting to register factory for plugin cuDNN when one has already been registered\n",
      "E0000 00:00:1749645758.176667      35 cuda_blas.cc:1418] Unable to register cuBLAS factory: Attempting to register factory for plugin cuBLAS when one has already been registered\n"
     ]
    }
   ],
   "source": [
    "import json\n",
    "import pandas as pd\n",
    "import torch\n",
    "from yake import KeywordExtractor\n",
    "from collections import Counter\n",
    "from sentence_transformers import SentenceTransformer\n",
    "from sklearn.cluster import KMeans\n",
    "from sklearn.feature_extraction.text import TfidfVectorizer\n",
    "from spacy import load"
   ]
  },
  {
   "cell_type": "code",
   "execution_count": 4,
   "id": "bb39a269-7215-4547-831f-be97b472bce3",
   "metadata": {
    "execution": {
     "iopub.execute_input": "2025-06-11T12:42:55.724396Z",
     "iopub.status.busy": "2025-06-11T12:42:55.723637Z",
     "iopub.status.idle": "2025-06-11T12:42:55.781011Z",
     "shell.execute_reply": "2025-06-11T12:42:55.780087Z",
     "shell.execute_reply.started": "2025-06-11T12:42:55.724372Z"
    },
    "trusted": true
   },
   "outputs": [
    {
     "name": "stdout",
     "output_type": "stream",
     "text": [
      "['Dear students, This channel advertises minor extracurricular activities, internal and external events, hackathons, competitions, campaigns and other potentially interesting happenings. All mentioned is supposed to help you to keep informed about additional opportunities for own personal and professional development. Keep in touch!', 'Hi there! Student Affairs is urgently looking for 3 volunteers to help with administrative work today from 15:30 until 18:00. Your efforts will be compensated with: - innopoints - tea cookies, if you like - friendly 319 team - amazing reputation in the future! If you may help please message andrejsblakunovs', 'Hi there! Want any of these? Student Affairs are looking for volunteers to help with administrative work - today 15:00-17:00 or - tomorrow in 319 from 14:00 to 16:00. Your efforts will be compensated with: - IBC 2019 T-shirt - tea cookies, if you like - friendliness of 319 team! If you may help please message andrejsblakunovs', \"Bonjour! Ça va? С'est la vie.. Croissant. If these words sound familiar to you, then maybe you know something about French Language TODAY Language Club invites you to the open French lesson for beginners by Aliance Francaise : in room 320! Lesson will be held in Russian Do not hesitate to contact alikhil or snidjett with any questions.\", \"On December 14, comedian Vladimir Marconi arrives in Innopolis. He, together with the mayor's office and his film crew, will shoot a video about residents of the city preparing for the New Year. Students will be working closely with Vladimir Marconi to produce a couple of comical videos. Students must have a sense of self-irony. If you want to work in this project, message AnyaProkhorenko by the end of Friday, November 22.\"]\n"
     ]
    }
   ],
   "source": [
    "with open(\"/kaggle/input/o4u-messages/o4u_preprocessed_messages_Jun_07_2025.json\") as f:\n",
    "    texts = json.load(f)\n",
    "\n",
    "print(texts[:5])"
   ]
  },
  {
   "cell_type": "markdown",
   "id": "884f15b0-484b-42ac-a361-869e6757d4ed",
   "metadata": {},
   "source": [
    "# Keyword extraction"
   ]
  },
  {
   "cell_type": "code",
   "execution_count": 5,
   "id": "1a05b9a5-2bc2-4f05-bb2b-66c4ca900abe",
   "metadata": {
    "execution": {
     "iopub.execute_input": "2025-06-11T12:42:55.783363Z",
     "iopub.status.busy": "2025-06-11T12:42:55.783096Z",
     "iopub.status.idle": "2025-06-11T12:42:55.789539Z",
     "shell.execute_reply": "2025-06-11T12:42:55.788685Z",
     "shell.execute_reply.started": "2025-06-11T12:42:55.783344Z"
    },
    "trusted": true
   },
   "outputs": [],
   "source": [
    "MAX_NUM_NGRAM = 2\n",
    "MAX_NUM_KEYWORDS = 10\n",
    "\n",
    "custom_stopwords = {\n",
    "    \"a\", \"an\", \"and\", \"the\", \"in\", \"on\", \"for\", \"to\", \"with\", \"of\", \"is\", \"are\", \n",
    "    \"was\", \"were\", \"it\", \"that\", \"this\", \"you\", \"he\", \"she\", \"they\", \"we\", \"i\",\n",
    "    \"or\", \"but\", \"at\", \"by\", \"from\", \"be\", \"as\", \"about\", \"your\", \"have\", \"has\", \"had\"\n",
    "    \"innopolis\", \"university\", \"iu\",\n",
    "    \"dear\", \"students\", \"join\", \"invite\", \"invites\", \"room\", \"hall\",\n",
    "    \"monday\", \"tuesday\", \"wednesday\", \"thursday\", \"friday\", \"saturday\",\n",
    "    \"sunday\", \"today\", \"tomorrow\", \"yesterday\",\n",
    "    \"january\", \"february\", \"march\", \"april\", \"may\", \"june\",\n",
    "    \"july\", \"august\", \"september\", \"october\", \"november\", \"december\"\n",
    "}\n",
    "\n",
    "kw_extractor = KeywordExtractor(\n",
    "    n=MAX_NUM_NGRAM,\n",
    "    top=MAX_NUM_KEYWORDS,\n",
    "    windowsSize=2,\n",
    "    stopwords=custom_stopwords\n",
    ")"
   ]
  },
  {
   "cell_type": "code",
   "execution_count": 6,
   "id": "cefcfa17-5046-4be7-ba4e-7283c9eddd6d",
   "metadata": {
    "execution": {
     "iopub.execute_input": "2025-06-11T12:42:55.790574Z",
     "iopub.status.busy": "2025-06-11T12:42:55.790357Z",
     "iopub.status.idle": "2025-06-11T12:42:55.833086Z",
     "shell.execute_reply": "2025-06-11T12:42:55.832337Z",
     "shell.execute_reply.started": "2025-06-11T12:42:55.790556Z"
    },
    "trusted": true
   },
   "outputs": [
    {
     "data": {
      "text/plain": [
       "[('Student Affairs', 0.13852360513076734),\n",
       " ('there', 0.16526509993669602),\n",
       " ('until 18:00', 0.2888479059923554),\n",
       " ('Affairs', 0.2986136531614795),\n",
       " ('innopoints', 0.30807788090138477),\n",
       " ('help', 0.3335343196299429),\n",
       " ('tea cookies', 0.3341383705148965),\n",
       " ('Student', 0.40744790190646923),\n",
       " ('18:00', 0.40744790190646923),\n",
       " ('urgently looking', 0.433785625834595)]"
      ]
     },
     "execution_count": 6,
     "metadata": {},
     "output_type": "execute_result"
    }
   ],
   "source": [
    "sorted(kw_extractor.extract_keywords(texts[1]), key=lambda x: x[1])"
   ]
  },
  {
   "cell_type": "code",
   "execution_count": 7,
   "id": "c9052d2e-9037-4b8b-8a89-bbcc88239fa7",
   "metadata": {
    "execution": {
     "iopub.execute_input": "2025-06-11T12:42:55.834261Z",
     "iopub.status.busy": "2025-06-11T12:42:55.833957Z",
     "iopub.status.idle": "2025-06-11T12:43:37.027461Z",
     "shell.execute_reply": "2025-06-11T12:43:37.026575Z",
     "shell.execute_reply.started": "2025-06-11T12:42:55.834237Z"
    },
    "trusted": true
   },
   "outputs": [
    {
     "name": "stdout",
     "output_type": "stream",
     "text": [
      "14225\n"
     ]
    }
   ],
   "source": [
    "extracted_keywords = []\n",
    "for text in texts:\n",
    "    keywords_scores = sorted(kw_extractor.extract_keywords(text), key=lambda x: x[1])\n",
    "    if keywords_scores:\n",
    "        keywords = [kw[0].lower() for kw in keywords_scores]\n",
    "        extracted_keywords.extend(keywords[:5])\n",
    "\n",
    "print(len(extracted_keywords))"
   ]
  },
  {
   "cell_type": "code",
   "execution_count": 8,
   "id": "008d7563-391e-4205-8b7c-38066b645dc8",
   "metadata": {
    "execution": {
     "iopub.execute_input": "2025-06-11T12:43:37.028663Z",
     "iopub.status.busy": "2025-06-11T12:43:37.028400Z",
     "iopub.status.idle": "2025-06-11T12:43:37.036461Z",
     "shell.execute_reply": "2025-06-11T12:43:37.035626Z",
     "shell.execute_reply.started": "2025-06-11T12:43:37.028634Z"
    },
    "trusted": true
   },
   "outputs": [],
   "source": [
    "keyword_counter = Counter(extracted_keywords)"
   ]
  },
  {
   "cell_type": "code",
   "execution_count": 9,
   "id": "5f5f315f-973a-4251-a523-a0afdead6d18",
   "metadata": {
    "execution": {
     "iopub.execute_input": "2025-06-11T12:43:37.037730Z",
     "iopub.status.busy": "2025-06-11T12:43:37.037440Z",
     "iopub.status.idle": "2025-06-11T12:43:37.054348Z",
     "shell.execute_reply": "2025-06-11T12:43:37.053664Z",
     "shell.execute_reply.started": "2025-06-11T12:43:37.037704Z"
    },
    "trusted": true
   },
   "outputs": [],
   "source": [
    "popular_keywords = sorted(\n",
    "    [(kw, cnt) for kw, cnt in keyword_counter.items() if cnt > 10],\n",
    "    key=lambda x: x[1],\n",
    "    reverse=True\n",
    ")"
   ]
  },
  {
   "cell_type": "code",
   "execution_count": 10,
   "id": "04fe2518-5afa-45c8-bec5-95a27f4a7c04",
   "metadata": {
    "execution": {
     "iopub.execute_input": "2025-06-11T12:43:37.055455Z",
     "iopub.status.busy": "2025-06-11T12:43:37.055188Z",
     "iopub.status.idle": "2025-06-11T12:43:37.075357Z",
     "shell.execute_reply": "2025-06-11T12:43:37.074491Z",
     "shell.execute_reply.started": "2025-06-11T12:43:37.055433Z"
    },
    "trusted": true
   },
   "outputs": [
    {
     "name": "stdout",
     "output_type": "stream",
     "text": [
      "'visiting lecturer' 125\n",
      "'reminder' 115\n",
      "'lecturer candidate' 112\n",
      "'innopolis' 103\n",
      "'new visiting' 100\n",
      "'candidate talk' 82\n",
      "'inno stand' 79\n",
      "'friendly reminder' 67\n",
      "'club' 59\n",
      "'take part' 54\n",
      "'new year' 52\n",
      "'international fest' 45\n",
      "'candidate lecture' 45\n",
      "'friendly' 45\n",
      "'day' 41\n",
      "'got talent' 41\n",
      "'artificial intelligence' 40\n",
      "'inno got' 37\n",
      "'stand' 35\n",
      "'year' 35\n",
      "'russian' 31\n",
      "'new faculty' 31\n",
      "'will' 30\n",
      "'new' 29\n",
      "'russian federation' 29\n",
      "'international' 29\n",
      "'fest' 25\n",
      "'master class' 24\n",
      "'iustudentnews good' 24\n",
      "'friends' 23\n",
      "'summer school' 23\n",
      "'spring ball' 22\n",
      "'faculty candidate' 22\n",
      "'ball' 21\n",
      "'information security' 21\n",
      "'those who' 19\n",
      "'sport complex' 19\n",
      "'iustudentnews hello' 19\n",
      "'lounge zone' 18\n",
      "'inno' 18\n",
      "'good evening' 18\n",
      "'student' 17\n",
      "'what' 17\n",
      "'rage club' 17\n",
      "'quiz' 17\n",
      "'spring' 16\n",
      "'olympiad' 16\n",
      "'твой ход' 16\n",
      "'lecture seminar' 16\n",
      "'candidate class' 16\n",
      "'good' 16\n",
      "'art' 15\n",
      "'volunteering opportunity' 15\n",
      "'club fest' 15\n",
      "'tatarstan' 15\n",
      "'lecture' 15\n",
      "'dance day' 15\n",
      "'our' 14\n",
      "'volunteers wanted' 14\n",
      "'kazan digital' 14\n",
      "'application deadline' 14\n",
      "'russia' 14\n",
      "'slippers' 14\n",
      "'festival' 13\n",
      "'machine learning' 13\n",
      "'digital week' 13\n",
      "'team' 13\n",
      "'job fair' 13\n",
      "'young people' 13\n",
      "'seminar lecture' 13\n",
      "'want' 12\n",
      "'who want' 12\n",
      "'digital' 12\n",
      "'prize fund' 12\n",
      "'football club' 12\n",
      "'open mic' 12\n",
      "'computer science' 12\n",
      "'digital transformation' 12\n",
      "'international forum' 12\n",
      "'startup studio' 12\n",
      "'candidate seminar' 12\n",
      "'slippers party' 12\n",
      "'get ready' 12\n",
      "'secret santa' 11\n",
      "'coming soon' 11\n",
      "'therapy' 11\n",
      "'course' 11\n",
      "'kazan' 11\n",
      "'contest' 11\n",
      "'sports programming' 11\n",
      "'youth forum' 11\n",
      "'how' 11\n",
      "'online hackathon' 11\n",
      "'first meeting' 11\n",
      "'street dance' 11\n",
      "'green stairs' 11\n",
      "'russian venture' 11\n",
      "'valentine day' 11\n",
      "'innopolis city' 11\n",
      "'get' 11\n",
      "'event' 11\n",
      "'innostreetdance club' 11\n"
     ]
    }
   ],
   "source": [
    "keywords_candidates = []\n",
    "for kw, cnt in popular_keywords:\n",
    "    print(repr(kw), cnt)\n",
    "    keywords_candidates.append(kw)"
   ]
  },
  {
   "cell_type": "markdown",
   "id": "459ff60d-5b21-459b-ac40-44b7b03db44f",
   "metadata": {},
   "source": [
    "# Noun Phrase Chunking"
   ]
  },
  {
   "cell_type": "code",
   "execution_count": 11,
   "id": "430b8ab5-90bd-4b84-96e1-69b53e70fd2a",
   "metadata": {
    "execution": {
     "iopub.execute_input": "2025-06-11T12:43:37.078620Z",
     "iopub.status.busy": "2025-06-11T12:43:37.078359Z",
     "iopub.status.idle": "2025-06-11T12:43:37.923558Z",
     "shell.execute_reply": "2025-06-11T12:43:37.922678Z",
     "shell.execute_reply.started": "2025-06-11T12:43:37.078602Z"
    },
    "trusted": true
   },
   "outputs": [],
   "source": [
    "nlp = load(\"en_core_web_sm\")"
   ]
  },
  {
   "cell_type": "code",
   "execution_count": 12,
   "id": "25758635-c429-47e0-a6aa-59f0f44968af",
   "metadata": {
    "execution": {
     "iopub.execute_input": "2025-06-11T12:43:37.924703Z",
     "iopub.status.busy": "2025-06-11T12:43:37.924471Z",
     "iopub.status.idle": "2025-06-11T12:44:07.767542Z",
     "shell.execute_reply": "2025-06-11T12:44:07.766758Z",
     "shell.execute_reply.started": "2025-06-11T12:43:37.924685Z"
    },
    "trusted": true
   },
   "outputs": [
    {
     "name": "stdout",
     "output_type": "stream",
     "text": [
      "66350\n"
     ]
    }
   ],
   "source": [
    "extracted_noun_phrases = []\n",
    "for doc in nlp.pipe(texts):\n",
    "    for chunk in doc.noun_chunks:\n",
    "        extracted_noun_phrases.append(chunk.text.lower())\n",
    "\n",
    "print(len(extracted_noun_phrases))"
   ]
  },
  {
   "cell_type": "code",
   "execution_count": 13,
   "id": "79a3d502-daff-4d76-99c0-ec1854007618",
   "metadata": {
    "execution": {
     "iopub.execute_input": "2025-06-11T12:44:07.768649Z",
     "iopub.status.busy": "2025-06-11T12:44:07.768404Z",
     "iopub.status.idle": "2025-06-11T12:44:07.783876Z",
     "shell.execute_reply": "2025-06-11T12:44:07.783054Z",
     "shell.execute_reply.started": "2025-06-11T12:44:07.768622Z"
    },
    "trusted": true
   },
   "outputs": [],
   "source": [
    "phrase_counter = Counter(extracted_noun_phrases)"
   ]
  },
  {
   "cell_type": "code",
   "execution_count": 14,
   "id": "8b967b02-2ef4-4e97-8050-4c6271ff68e2",
   "metadata": {
    "execution": {
     "iopub.execute_input": "2025-06-11T12:44:07.785046Z",
     "iopub.status.busy": "2025-06-11T12:44:07.784761Z",
     "iopub.status.idle": "2025-06-11T12:44:07.801674Z",
     "shell.execute_reply": "2025-06-11T12:44:07.801000Z",
     "shell.execute_reply.started": "2025-06-11T12:44:07.785026Z"
    },
    "trusted": true
   },
   "outputs": [],
   "source": [
    "popular_phrases = sorted(\n",
    "    [(n, cnt) for n, cnt in phrase_counter.items() if cnt > 30 and n not in custom_stopwords],\n",
    "    key=lambda x: x[1],\n",
    "    reverse=True\n",
    ")"
   ]
  },
  {
   "cell_type": "code",
   "execution_count": 15,
   "id": "cfb903a9-9bcc-4557-9673-f03ae74c70e5",
   "metadata": {
    "execution": {
     "iopub.execute_input": "2025-06-11T12:44:07.802663Z",
     "iopub.status.busy": "2025-06-11T12:44:07.802470Z",
     "iopub.status.idle": "2025-06-11T12:44:07.818284Z",
     "shell.execute_reply": "2025-06-11T12:44:07.817488Z",
     "shell.execute_reply.started": "2025-06-11T12:44:07.802648Z"
    },
    "trusted": true
   },
   "outputs": [
    {
     "name": "stdout",
     "output_type": "stream",
     "text": [
      "'part' 379\n",
      "'who' 339\n",
      "'the link' 339\n",
      "'innopolis' 277\n",
      "'us' 268\n",
      "'what' 264\n",
      "'russia' 202\n",
      "'more information' 195\n",
      "'which' 190\n",
      "'participants' 189\n",
      "'the event' 171\n",
      "'more info' 170\n",
      "'education' 170\n",
      "'innopolis university' 163\n",
      "'registration' 150\n",
      "'everyone' 149\n",
      "'the competition' 142\n",
      "'questions' 140\n",
      "'a team' 140\n",
      "'the form' 139\n",
      "'our university' 137\n",
      "'the field' 132\n",
      "'reminder' 123\n",
      "'research' 123\n",
      "'russian' 119\n",
      "'them' 118\n",
      "'tatarstan' 117\n",
      "'participation' 117\n",
      "'the program' 114\n",
      "'the world' 113\n",
      "'science' 112\n",
      "\"'s\" 107\n",
      "'the best faculty candidates' 104\n",
      "'the opportunity' 103\n",
      "'the year' 100\n",
      "'kazan' 93\n",
      "'registration deadline' 93\n",
      "'language' 92\n",
      "'the winners' 91\n",
      "'the forum' 89\n",
      "'teams' 86\n",
      "'experience' 85\n",
      "'volunteers' 84\n",
      "'time' 84\n",
      "'the meeting' 84\n",
      "'club' 84\n",
      "'yourself' 83\n",
      "'the development' 80\n",
      "'register' 80\n",
      "'english' 80\n",
      "'the future' 79\n",
      "'experts' 79\n",
      "'artificial intelligence' 79\n",
      "'deadline' 77\n",
      "'-' 77\n",
      "'new visiting lecturer candidate talk' 77\n",
      "'technology' 76\n",
      "'the republic' 75\n",
      "'the university' 75\n",
      "'development' 75\n",
      "'artspace' 73\n",
      "'the end' 72\n",
      "'those' 72\n",
      "'place' 70\n",
      "'the team' 68\n",
      "'people' 68\n",
      "'the course' 67\n",
      "'application deadline' 65\n",
      "'date' 65\n",
      "'hybrid mode' 65\n",
      "'the project' 64\n",
      "'event language' 64\n",
      "'friendly reminder' 63\n",
      "'fun' 61\n",
      "'life' 61\n",
      "'projects' 60\n",
      "'zoom' 60\n",
      "'dear students' 59\n",
      "'applications' 59\n",
      "'head' 58\n",
      "'your project' 55\n",
      "'inno stand' 55\n",
      "'mathematics' 54\n",
      "'others' 54\n",
      "'iustudentnews' 53\n",
      "'robotics' 52\n",
      "'any news' 52\n",
      "'the festival' 51\n",
      "'the group' 50\n",
      "'ai' 50\n",
      "'any questions' 49\n",
      "'moscow' 49\n",
      "'the website' 49\n",
      "'your team' 49\n",
      "'the russian federation' 49\n",
      "'the game' 48\n",
      "'the hackathon' 48\n",
      "'ms teams candidates' 48\n",
      "'the conference' 47\n",
      "'prizes' 47\n",
      "'lectures' 46\n",
      "'an opportunity' 46\n",
      "'support' 45\n",
      "'dates' 45\n",
      "'winners' 45\n",
      "'music' 45\n",
      "'the contest' 44\n",
      "'candidates' 44\n",
      "'team' 44\n",
      "'startups' 44\n",
      "'something' 43\n",
      "'young people' 43\n",
      "'the framework' 43\n",
      "'knowledge' 42\n",
      "'information' 42\n",
      "'all' 41\n",
      "'information security' 41\n",
      "'games' 41\n",
      "'the results' 41\n",
      "'beginners' 40\n",
      "'love' 40\n",
      "'your skills' 40\n",
      "'the lecture' 40\n",
      "'culture' 39\n",
      "'your friends' 38\n",
      "'a chance' 38\n",
      "'innopoints' 37\n",
      "'opportunities' 37\n",
      "'topics' 37\n",
      "'tasks' 37\n",
      "'ideas' 36\n",
      "'sports' 36\n",
      "'like-minded people' 36\n",
      "'our students' 36\n",
      "'master classes' 35\n",
      "'physics' 35\n",
      "'1st floor' 34\n",
      "'friends' 34\n",
      "'this form' 34\n",
      "'ms teams' 34\n",
      "'universities' 34\n",
      "'sciences' 34\n",
      "'business' 33\n",
      "'the channel' 33\n",
      "'yandex' 33\n",
      "'wegs' 33\n",
      "'workshops' 32\n",
      "'design' 32\n",
      "'investors' 32\n",
      "'link' 31\n",
      "'mipt' 31\n",
      "'themselves' 31\n",
      "'computer science' 31\n",
      "'bar' 31\n"
     ]
    }
   ],
   "source": [
    "phrases_candidates = []\n",
    "for ph, cnt in popular_phrases:\n",
    "    print(repr(ph), cnt)\n",
    "    phrases_candidates.append(ph)"
   ]
  },
  {
   "cell_type": "markdown",
   "id": "2dc4d3c5-df70-4181-b44b-eec6fa202f62",
   "metadata": {},
   "source": [
    "# Semantic clustering based topic extraction"
   ]
  },
  {
   "cell_type": "code",
   "execution_count": 16,
   "id": "07555bbc-7708-4663-ab30-9f23eb4dafaf",
   "metadata": {
    "execution": {
     "iopub.execute_input": "2025-06-11T12:44:07.819770Z",
     "iopub.status.busy": "2025-06-11T12:44:07.819187Z",
     "iopub.status.idle": "2025-06-11T12:44:47.259313Z",
     "shell.execute_reply": "2025-06-11T12:44:47.258662Z",
     "shell.execute_reply.started": "2025-06-11T12:44:07.819746Z"
    },
    "trusted": true
   },
   "outputs": [
    {
     "data": {
      "application/vnd.jupyter.widget-view+json": {
       "model_id": "e4c604b5ecb94d68be20cff19d9d0dd7",
       "version_major": 2,
       "version_minor": 0
      },
      "text/plain": [
       "modules.json:   0%|          | 0.00/349 [00:00<?, ?B/s]"
      ]
     },
     "metadata": {},
     "output_type": "display_data"
    },
    {
     "data": {
      "application/vnd.jupyter.widget-view+json": {
       "model_id": "7b0119a8be1c432c88eaf27bb2a0ceef",
       "version_major": 2,
       "version_minor": 0
      },
      "text/plain": [
       "config_sentence_transformers.json:   0%|          | 0.00/116 [00:00<?, ?B/s]"
      ]
     },
     "metadata": {},
     "output_type": "display_data"
    },
    {
     "data": {
      "application/vnd.jupyter.widget-view+json": {
       "model_id": "dd8e733f1ca04221872bbba52a45a017",
       "version_major": 2,
       "version_minor": 0
      },
      "text/plain": [
       "README.md:   0%|          | 0.00/10.5k [00:00<?, ?B/s]"
      ]
     },
     "metadata": {},
     "output_type": "display_data"
    },
    {
     "data": {
      "application/vnd.jupyter.widget-view+json": {
       "model_id": "6543ee432f3241ff9bfdbedc236085f7",
       "version_major": 2,
       "version_minor": 0
      },
      "text/plain": [
       "sentence_bert_config.json:   0%|          | 0.00/53.0 [00:00<?, ?B/s]"
      ]
     },
     "metadata": {},
     "output_type": "display_data"
    },
    {
     "data": {
      "application/vnd.jupyter.widget-view+json": {
       "model_id": "162c56b7187c4d918d2e49df451550b0",
       "version_major": 2,
       "version_minor": 0
      },
      "text/plain": [
       "config.json:   0%|          | 0.00/615 [00:00<?, ?B/s]"
      ]
     },
     "metadata": {},
     "output_type": "display_data"
    },
    {
     "data": {
      "application/vnd.jupyter.widget-view+json": {
       "model_id": "e6e3d52371fb4e49859f48a45fa706eb",
       "version_major": 2,
       "version_minor": 0
      },
      "text/plain": [
       "model.safetensors:   0%|          | 0.00/133M [00:00<?, ?B/s]"
      ]
     },
     "metadata": {},
     "output_type": "display_data"
    },
    {
     "data": {
      "application/vnd.jupyter.widget-view+json": {
       "model_id": "dea603c9a5f049a28f386ef70dd64ab9",
       "version_major": 2,
       "version_minor": 0
      },
      "text/plain": [
       "tokenizer_config.json:   0%|          | 0.00/352 [00:00<?, ?B/s]"
      ]
     },
     "metadata": {},
     "output_type": "display_data"
    },
    {
     "data": {
      "application/vnd.jupyter.widget-view+json": {
       "model_id": "a04ea03518954c69aea16f0f18506ad8",
       "version_major": 2,
       "version_minor": 0
      },
      "text/plain": [
       "vocab.txt:   0%|          | 0.00/232k [00:00<?, ?B/s]"
      ]
     },
     "metadata": {},
     "output_type": "display_data"
    },
    {
     "data": {
      "application/vnd.jupyter.widget-view+json": {
       "model_id": "cc5b32703baf4cb9950fd9ea07bb5e9c",
       "version_major": 2,
       "version_minor": 0
      },
      "text/plain": [
       "tokenizer.json:   0%|          | 0.00/466k [00:00<?, ?B/s]"
      ]
     },
     "metadata": {},
     "output_type": "display_data"
    },
    {
     "data": {
      "application/vnd.jupyter.widget-view+json": {
       "model_id": "aacf9de3d2ea41cbbd8778fc4ce90a30",
       "version_major": 2,
       "version_minor": 0
      },
      "text/plain": [
       "special_tokens_map.json:   0%|          | 0.00/112 [00:00<?, ?B/s]"
      ]
     },
     "metadata": {},
     "output_type": "display_data"
    },
    {
     "data": {
      "application/vnd.jupyter.widget-view+json": {
       "model_id": "cbb6eb9bccfb4b188bebfab875ce9756",
       "version_major": 2,
       "version_minor": 0
      },
      "text/plain": [
       "config.json:   0%|          | 0.00/190 [00:00<?, ?B/s]"
      ]
     },
     "metadata": {},
     "output_type": "display_data"
    }
   ],
   "source": [
    "model = SentenceTransformer(\n",
    "    model_name_or_path=\"sentence-transformers/all-MiniLM-L12-v2\",\n",
    "    device=\"cuda:0\" if torch.cuda.is_available() else \"cpu\",\n",
    "    model_kwargs={\"torch_dtype\": torch.bfloat16}\n",
    ")"
   ]
  },
  {
   "cell_type": "code",
   "execution_count": 17,
   "id": "aa1edc1d-0020-4d03-ba38-1f30f92cdf67",
   "metadata": {
    "execution": {
     "iopub.execute_input": "2025-06-11T12:44:47.260509Z",
     "iopub.status.busy": "2025-06-11T12:44:47.260191Z",
     "iopub.status.idle": "2025-06-11T12:44:54.931586Z",
     "shell.execute_reply": "2025-06-11T12:44:54.930870Z",
     "shell.execute_reply.started": "2025-06-11T12:44:47.260485Z"
    },
    "trusted": true
   },
   "outputs": [
    {
     "data": {
      "application/vnd.jupyter.widget-view+json": {
       "model_id": "2be8d5fce2a241ca82dc6287378cfb61",
       "version_major": 2,
       "version_minor": 0
      },
      "text/plain": [
       "Batches:   0%|          | 0/45 [00:00<?, ?it/s]"
      ]
     },
     "metadata": {},
     "output_type": "display_data"
    },
    {
     "data": {
      "text/plain": [
       "array([[ 0.0402832 , -0.03540039,  0.08447266, ...,  0.07568359,\n",
       "        -0.0324707 ,  0.04516602],\n",
       "       [-0.02783203, -0.04174805,  0.12451172, ...,  0.03173828,\n",
       "        -0.04760742, -0.02258301],\n",
       "       [-0.01843262, -0.02185059,  0.10107422, ..., -0.02661133,\n",
       "        -0.06176758, -0.02526855],\n",
       "       ...,\n",
       "       [ 0.01324463, -0.03112793,  0.00037003, ...,  0.00061798,\n",
       "        -0.03710938, -0.01391602],\n",
       "       [-0.0135498 ,  0.0112915 ,  0.05786133, ..., -0.06347656,\n",
       "        -0.04077148, -0.00346375],\n",
       "       [ 0.01397705, -0.03344727,  0.02050781, ...,  0.06689453,\n",
       "         0.02941895, -0.03295898]], dtype=float32)"
      ]
     },
     "execution_count": 17,
     "metadata": {},
     "output_type": "execute_result"
    }
   ],
   "source": [
    "document_embeddings = model.encode(texts, batch_size=64)\n",
    "document_embeddings"
   ]
  },
  {
   "cell_type": "code",
   "execution_count": 18,
   "id": "23a4a252-4c3a-4720-869b-05a66414ec55",
   "metadata": {
    "execution": {
     "iopub.execute_input": "2025-06-11T12:44:54.932658Z",
     "iopub.status.busy": "2025-06-11T12:44:54.932424Z",
     "iopub.status.idle": "2025-06-11T12:44:55.176987Z",
     "shell.execute_reply": "2025-06-11T12:44:55.176114Z",
     "shell.execute_reply.started": "2025-06-11T12:44:54.932641Z"
    },
    "trusted": true
   },
   "outputs": [
    {
     "data": {
      "text/html": [
       "<style>#sk-container-id-1 {color: black;background-color: white;}#sk-container-id-1 pre{padding: 0;}#sk-container-id-1 div.sk-toggleable {background-color: white;}#sk-container-id-1 label.sk-toggleable__label {cursor: pointer;display: block;width: 100%;margin-bottom: 0;padding: 0.3em;box-sizing: border-box;text-align: center;}#sk-container-id-1 label.sk-toggleable__label-arrow:before {content: \"▸\";float: left;margin-right: 0.25em;color: #696969;}#sk-container-id-1 label.sk-toggleable__label-arrow:hover:before {color: black;}#sk-container-id-1 div.sk-estimator:hover label.sk-toggleable__label-arrow:before {color: black;}#sk-container-id-1 div.sk-toggleable__content {max-height: 0;max-width: 0;overflow: hidden;text-align: left;background-color: #f0f8ff;}#sk-container-id-1 div.sk-toggleable__content pre {margin: 0.2em;color: black;border-radius: 0.25em;background-color: #f0f8ff;}#sk-container-id-1 input.sk-toggleable__control:checked~div.sk-toggleable__content {max-height: 200px;max-width: 100%;overflow: auto;}#sk-container-id-1 input.sk-toggleable__control:checked~label.sk-toggleable__label-arrow:before {content: \"▾\";}#sk-container-id-1 div.sk-estimator input.sk-toggleable__control:checked~label.sk-toggleable__label {background-color: #d4ebff;}#sk-container-id-1 div.sk-label input.sk-toggleable__control:checked~label.sk-toggleable__label {background-color: #d4ebff;}#sk-container-id-1 input.sk-hidden--visually {border: 0;clip: rect(1px 1px 1px 1px);clip: rect(1px, 1px, 1px, 1px);height: 1px;margin: -1px;overflow: hidden;padding: 0;position: absolute;width: 1px;}#sk-container-id-1 div.sk-estimator {font-family: monospace;background-color: #f0f8ff;border: 1px dotted black;border-radius: 0.25em;box-sizing: border-box;margin-bottom: 0.5em;}#sk-container-id-1 div.sk-estimator:hover {background-color: #d4ebff;}#sk-container-id-1 div.sk-parallel-item::after {content: \"\";width: 100%;border-bottom: 1px solid gray;flex-grow: 1;}#sk-container-id-1 div.sk-label:hover label.sk-toggleable__label {background-color: #d4ebff;}#sk-container-id-1 div.sk-serial::before {content: \"\";position: absolute;border-left: 1px solid gray;box-sizing: border-box;top: 0;bottom: 0;left: 50%;z-index: 0;}#sk-container-id-1 div.sk-serial {display: flex;flex-direction: column;align-items: center;background-color: white;padding-right: 0.2em;padding-left: 0.2em;position: relative;}#sk-container-id-1 div.sk-item {position: relative;z-index: 1;}#sk-container-id-1 div.sk-parallel {display: flex;align-items: stretch;justify-content: center;background-color: white;position: relative;}#sk-container-id-1 div.sk-item::before, #sk-container-id-1 div.sk-parallel-item::before {content: \"\";position: absolute;border-left: 1px solid gray;box-sizing: border-box;top: 0;bottom: 0;left: 50%;z-index: -1;}#sk-container-id-1 div.sk-parallel-item {display: flex;flex-direction: column;z-index: 1;position: relative;background-color: white;}#sk-container-id-1 div.sk-parallel-item:first-child::after {align-self: flex-end;width: 50%;}#sk-container-id-1 div.sk-parallel-item:last-child::after {align-self: flex-start;width: 50%;}#sk-container-id-1 div.sk-parallel-item:only-child::after {width: 0;}#sk-container-id-1 div.sk-dashed-wrapped {border: 1px dashed gray;margin: 0 0.4em 0.5em 0.4em;box-sizing: border-box;padding-bottom: 0.4em;background-color: white;}#sk-container-id-1 div.sk-label label {font-family: monospace;font-weight: bold;display: inline-block;line-height: 1.2em;}#sk-container-id-1 div.sk-label-container {text-align: center;}#sk-container-id-1 div.sk-container {/* jupyter's `normalize.less` sets `[hidden] { display: none; }` but bootstrap.min.css set `[hidden] { display: none !important; }` so we also need the `!important` here to be able to override the default hidden behavior on the sphinx rendered scikit-learn.org. See: https://github.com/scikit-learn/scikit-learn/issues/21755 */display: inline-block !important;position: relative;}#sk-container-id-1 div.sk-text-repr-fallback {display: none;}</style><div id=\"sk-container-id-1\" class=\"sk-top-container\"><div class=\"sk-text-repr-fallback\"><pre>KMeans(n_clusters=30, n_init=&#x27;auto&#x27;, random_state=42)</pre><b>In a Jupyter environment, please rerun this cell to show the HTML representation or trust the notebook. <br />On GitHub, the HTML representation is unable to render, please try loading this page with nbviewer.org.</b></div><div class=\"sk-container\" hidden><div class=\"sk-item\"><div class=\"sk-estimator sk-toggleable\"><input class=\"sk-toggleable__control sk-hidden--visually\" id=\"sk-estimator-id-1\" type=\"checkbox\" checked><label for=\"sk-estimator-id-1\" class=\"sk-toggleable__label sk-toggleable__label-arrow\">KMeans</label><div class=\"sk-toggleable__content\"><pre>KMeans(n_clusters=30, n_init=&#x27;auto&#x27;, random_state=42)</pre></div></div></div></div></div>"
      ],
      "text/plain": [
       "KMeans(n_clusters=30, n_init='auto', random_state=42)"
      ]
     },
     "execution_count": 18,
     "metadata": {},
     "output_type": "execute_result"
    }
   ],
   "source": [
    "NUM_CLUSTERS = 30\n",
    "kmeans = KMeans(n_clusters=NUM_CLUSTERS, random_state=42, n_init=\"auto\")\n",
    "kmeans.fit(document_embeddings)"
   ]
  },
  {
   "cell_type": "code",
   "execution_count": 19,
   "id": "720d67a8-e51d-4e76-8183-700b602ce8b4",
   "metadata": {
    "execution": {
     "iopub.execute_input": "2025-06-11T12:44:55.178265Z",
     "iopub.status.busy": "2025-06-11T12:44:55.177940Z",
     "iopub.status.idle": "2025-06-11T12:44:55.183922Z",
     "shell.execute_reply": "2025-06-11T12:44:55.183266Z",
     "shell.execute_reply.started": "2025-06-11T12:44:55.178236Z"
    },
    "trusted": true
   },
   "outputs": [
    {
     "data": {
      "text/plain": [
       "array([13, 25, 25, ..., 18,  3,  5], dtype=int32)"
      ]
     },
     "execution_count": 19,
     "metadata": {},
     "output_type": "execute_result"
    }
   ],
   "source": [
    "cluster_assignments = kmeans.labels_\n",
    "cluster_assignments"
   ]
  },
  {
   "cell_type": "code",
   "execution_count": 20,
   "id": "c3b0c6ec-ad85-46cd-8b88-95daa164bc1b",
   "metadata": {
    "execution": {
     "iopub.execute_input": "2025-06-11T12:44:55.185145Z",
     "iopub.status.busy": "2025-06-11T12:44:55.184815Z",
     "iopub.status.idle": "2025-06-11T12:44:55.223701Z",
     "shell.execute_reply": "2025-06-11T12:44:55.222870Z",
     "shell.execute_reply.started": "2025-06-11T12:44:55.185115Z"
    },
    "trusted": true
   },
   "outputs": [
    {
     "data": {
      "text/html": [
       "<div>\n",
       "<style scoped>\n",
       "    .dataframe tbody tr th:only-of-type {\n",
       "        vertical-align: middle;\n",
       "    }\n",
       "\n",
       "    .dataframe tbody tr th {\n",
       "        vertical-align: top;\n",
       "    }\n",
       "\n",
       "    .dataframe thead th {\n",
       "        text-align: right;\n",
       "    }\n",
       "</style>\n",
       "<table border=\"1\" class=\"dataframe\">\n",
       "  <thead>\n",
       "    <tr style=\"text-align: right;\">\n",
       "      <th></th>\n",
       "      <th>doc</th>\n",
       "      <th>cluster</th>\n",
       "    </tr>\n",
       "  </thead>\n",
       "  <tbody>\n",
       "    <tr>\n",
       "      <th>0</th>\n",
       "      <td>Dear students, This channel advertises minor e...</td>\n",
       "      <td>13</td>\n",
       "    </tr>\n",
       "    <tr>\n",
       "      <th>1</th>\n",
       "      <td>Hi there! Student Affairs is urgently looking ...</td>\n",
       "      <td>25</td>\n",
       "    </tr>\n",
       "    <tr>\n",
       "      <th>2</th>\n",
       "      <td>Hi there! Want any of these? Student Affairs a...</td>\n",
       "      <td>25</td>\n",
       "    </tr>\n",
       "    <tr>\n",
       "      <th>3</th>\n",
       "      <td>Bonjour! Ça va? С'est la vie.. Croissant. If t...</td>\n",
       "      <td>14</td>\n",
       "    </tr>\n",
       "    <tr>\n",
       "      <th>4</th>\n",
       "      <td>On December 14, comedian Vladimir Marconi arri...</td>\n",
       "      <td>18</td>\n",
       "    </tr>\n",
       "    <tr>\n",
       "      <th>...</th>\n",
       "      <td>...</td>\n",
       "      <td>...</td>\n",
       "    </tr>\n",
       "    <tr>\n",
       "      <th>2845</th>\n",
       "      <td>\"Slippers of the Year\" Contest! Your slippers ...</td>\n",
       "      <td>22</td>\n",
       "    </tr>\n",
       "    <tr>\n",
       "      <th>2846</th>\n",
       "      <td>ECO ACTION for World Environment Day! 5 June i...</td>\n",
       "      <td>2</td>\n",
       "    </tr>\n",
       "    <tr>\n",
       "      <th>2847</th>\n",
       "      <td>PreParty of the City Day for homies \"Super Inn...</td>\n",
       "      <td>18</td>\n",
       "    </tr>\n",
       "    <tr>\n",
       "      <th>2848</th>\n",
       "      <td>International Acceleration Program 2025 The pr...</td>\n",
       "      <td>3</td>\n",
       "    </tr>\n",
       "    <tr>\n",
       "      <th>2849</th>\n",
       "      <td>Open lectures for Employees and Students by Al...</td>\n",
       "      <td>5</td>\n",
       "    </tr>\n",
       "  </tbody>\n",
       "</table>\n",
       "<p>2850 rows × 2 columns</p>\n",
       "</div>"
      ],
      "text/plain": [
       "                                                    doc  cluster\n",
       "0     Dear students, This channel advertises minor e...       13\n",
       "1     Hi there! Student Affairs is urgently looking ...       25\n",
       "2     Hi there! Want any of these? Student Affairs a...       25\n",
       "3     Bonjour! Ça va? С'est la vie.. Croissant. If t...       14\n",
       "4     On December 14, comedian Vladimir Marconi arri...       18\n",
       "...                                                 ...      ...\n",
       "2845  \"Slippers of the Year\" Contest! Your slippers ...       22\n",
       "2846  ECO ACTION for World Environment Day! 5 June i...        2\n",
       "2847  PreParty of the City Day for homies \"Super Inn...       18\n",
       "2848  International Acceleration Program 2025 The pr...        3\n",
       "2849  Open lectures for Employees and Students by Al...        5\n",
       "\n",
       "[2850 rows x 2 columns]"
      ]
     },
     "execution_count": 20,
     "metadata": {},
     "output_type": "execute_result"
    }
   ],
   "source": [
    "docs_df = pd.DataFrame({'doc': texts, 'cluster': cluster_assignments})\n",
    "docs_df"
   ]
  },
  {
   "cell_type": "code",
   "execution_count": 21,
   "id": "7779d684-83a2-4fa5-a9ba-a64ae779f4fd",
   "metadata": {
    "_kg_hide-output": true,
    "execution": {
     "iopub.execute_input": "2025-06-11T12:44:55.225251Z",
     "iopub.status.busy": "2025-06-11T12:44:55.224638Z",
     "iopub.status.idle": "2025-06-11T12:44:55.247810Z",
     "shell.execute_reply": "2025-06-11T12:44:55.247226Z",
     "shell.execute_reply.started": "2025-06-11T12:44:55.225194Z"
    },
    "scrolled": true,
    "trusted": true
   },
   "outputs": [
    {
     "data": {
      "text/html": [
       "<div>\n",
       "<style scoped>\n",
       "    .dataframe tbody tr th:only-of-type {\n",
       "        vertical-align: middle;\n",
       "    }\n",
       "\n",
       "    .dataframe tbody tr th {\n",
       "        vertical-align: top;\n",
       "    }\n",
       "\n",
       "    .dataframe thead th {\n",
       "        text-align: right;\n",
       "    }\n",
       "</style>\n",
       "<table border=\"1\" class=\"dataframe\">\n",
       "  <thead>\n",
       "    <tr style=\"text-align: right;\">\n",
       "      <th></th>\n",
       "      <th>cluster</th>\n",
       "      <th>doc</th>\n",
       "    </tr>\n",
       "  </thead>\n",
       "  <tbody>\n",
       "    <tr>\n",
       "      <th>0</th>\n",
       "      <td>0</td>\n",
       "      <td>Want to upgrade your programming skills? We ar...</td>\n",
       "    </tr>\n",
       "    <tr>\n",
       "      <th>1</th>\n",
       "      <td>1</td>\n",
       "      <td>Inno Stand Up - every Thursday, 19:00 If you h...</td>\n",
       "    </tr>\n",
       "    <tr>\n",
       "      <th>2</th>\n",
       "      <td>2</td>\n",
       "      <td>Student Union are looking for amazing VOLUNTEE...</td>\n",
       "    </tr>\n",
       "    <tr>\n",
       "      <th>3</th>\n",
       "      <td>3</td>\n",
       "      <td>APPLY for the Robotic projects until December ...</td>\n",
       "    </tr>\n",
       "    <tr>\n",
       "      <th>4</th>\n",
       "      <td>4</td>\n",
       "      <td>Japanese language courses at Anime Club! The f...</td>\n",
       "    </tr>\n",
       "    <tr>\n",
       "      <th>5</th>\n",
       "      <td>5</td>\n",
       "      <td>\"Me and my personal habits. How to use time in...</td>\n",
       "    </tr>\n",
       "    <tr>\n",
       "      <th>6</th>\n",
       "      <td>6</td>\n",
       "      <td>\"The Profession - Business Analyst\" book prese...</td>\n",
       "    </tr>\n",
       "    <tr>\n",
       "      <th>7</th>\n",
       "      <td>7</td>\n",
       "      <td>We invite you to become an IU Ambassador and t...</td>\n",
       "    </tr>\n",
       "    <tr>\n",
       "      <th>8</th>\n",
       "      <td>8</td>\n",
       "      <td>ART- Therapy course! Dear students! We continu...</td>\n",
       "    </tr>\n",
       "    <tr>\n",
       "      <th>9</th>\n",
       "      <td>9</td>\n",
       "      <td>Ho-Ho-Ho! SECRET SANTA IS COMING SOON! Secret ...</td>\n",
       "    </tr>\n",
       "    <tr>\n",
       "      <th>10</th>\n",
       "      <td>10</td>\n",
       "      <td>Korston are inviting students to undergo an in...</td>\n",
       "    </tr>\n",
       "    <tr>\n",
       "      <th>11</th>\n",
       "      <td>11</td>\n",
       "      <td>Scientific-practical conference High technolog...</td>\n",
       "    </tr>\n",
       "    <tr>\n",
       "      <th>12</th>\n",
       "      <td>12</td>\n",
       "      <td>Register here by 23:59 today to be included in...</td>\n",
       "    </tr>\n",
       "    <tr>\n",
       "      <th>13</th>\n",
       "      <td>13</td>\n",
       "      <td>Dear students, This channel advertises minor e...</td>\n",
       "    </tr>\n",
       "    <tr>\n",
       "      <th>14</th>\n",
       "      <td>14</td>\n",
       "      <td>Bonjour! Ça va? С'est la vie.. Croissant. If t...</td>\n",
       "    </tr>\n",
       "    <tr>\n",
       "      <th>15</th>\n",
       "      <td>15</td>\n",
       "      <td>Student Olympiad I am Professional urgently ne...</td>\n",
       "    </tr>\n",
       "    <tr>\n",
       "      <th>16</th>\n",
       "      <td>16</td>\n",
       "      <td>Poetry evenings ARE BACK! 14 Feb, 19:00, room ...</td>\n",
       "    </tr>\n",
       "    <tr>\n",
       "      <th>17</th>\n",
       "      <td>17</td>\n",
       "      <td>20-22 December. Moscow. ML, VRAR, IoT, RPA, Ro...</td>\n",
       "    </tr>\n",
       "    <tr>\n",
       "      <th>18</th>\n",
       "      <td>18</td>\n",
       "      <td>On December 14, comedian Vladimir Marconi arri...</td>\n",
       "    </tr>\n",
       "    <tr>\n",
       "      <th>19</th>\n",
       "      <td>19</td>\n",
       "      <td>Scientific-practical conference \"Robotics Arti...</td>\n",
       "    </tr>\n",
       "    <tr>\n",
       "      <th>20</th>\n",
       "      <td>20</td>\n",
       "      <td>Russian Internet Week 2019 will be held in Mos...</td>\n",
       "    </tr>\n",
       "    <tr>\n",
       "      <th>21</th>\n",
       "      <td>21</td>\n",
       "      <td>Innopolis vs KAPO (Kazan) Come, support us and...</td>\n",
       "    </tr>\n",
       "    <tr>\n",
       "      <th>22</th>\n",
       "      <td>22</td>\n",
       "      <td>Why to stay moody when you can shake your boot...</td>\n",
       "    </tr>\n",
       "    <tr>\n",
       "      <th>23</th>\n",
       "      <td>23</td>\n",
       "      <td>SPRING BALL 2020 When: 2nd April 19:00 What: E...</td>\n",
       "    </tr>\n",
       "    <tr>\n",
       "      <th>24</th>\n",
       "      <td>24</td>\n",
       "      <td>Dear Students! Soon it's your day! Traditional...</td>\n",
       "    </tr>\n",
       "    <tr>\n",
       "      <th>25</th>\n",
       "      <td>25</td>\n",
       "      <td>Hi there! Student Affairs is urgently looking ...</td>\n",
       "    </tr>\n",
       "    <tr>\n",
       "      <th>26</th>\n",
       "      <td>26</td>\n",
       "      <td>All-Russian MEGAHACKATHON HackUniversity 2020 ...</td>\n",
       "    </tr>\n",
       "    <tr>\n",
       "      <th>27</th>\n",
       "      <td>27</td>\n",
       "      <td>We invite you to the Soft Skills School, which...</td>\n",
       "    </tr>\n",
       "    <tr>\n",
       "      <th>28</th>\n",
       "      <td>28</td>\n",
       "      <td>Dear Students, the International Relations Off...</td>\n",
       "    </tr>\n",
       "    <tr>\n",
       "      <th>29</th>\n",
       "      <td>29</td>\n",
       "      <td>New Faculty Candidate Seminar Lecture! Prof. D...</td>\n",
       "    </tr>\n",
       "  </tbody>\n",
       "</table>\n",
       "</div>"
      ],
      "text/plain": [
       "    cluster                                                doc\n",
       "0         0  Want to upgrade your programming skills? We ar...\n",
       "1         1  Inno Stand Up - every Thursday, 19:00 If you h...\n",
       "2         2  Student Union are looking for amazing VOLUNTEE...\n",
       "3         3  APPLY for the Robotic projects until December ...\n",
       "4         4  Japanese language courses at Anime Club! The f...\n",
       "5         5  \"Me and my personal habits. How to use time in...\n",
       "6         6  \"The Profession - Business Analyst\" book prese...\n",
       "7         7  We invite you to become an IU Ambassador and t...\n",
       "8         8  ART- Therapy course! Dear students! We continu...\n",
       "9         9  Ho-Ho-Ho! SECRET SANTA IS COMING SOON! Secret ...\n",
       "10       10  Korston are inviting students to undergo an in...\n",
       "11       11  Scientific-practical conference High technolog...\n",
       "12       12  Register here by 23:59 today to be included in...\n",
       "13       13  Dear students, This channel advertises minor e...\n",
       "14       14  Bonjour! Ça va? С'est la vie.. Croissant. If t...\n",
       "15       15  Student Olympiad I am Professional urgently ne...\n",
       "16       16  Poetry evenings ARE BACK! 14 Feb, 19:00, room ...\n",
       "17       17  20-22 December. Moscow. ML, VRAR, IoT, RPA, Ro...\n",
       "18       18  On December 14, comedian Vladimir Marconi arri...\n",
       "19       19  Scientific-practical conference \"Robotics Arti...\n",
       "20       20  Russian Internet Week 2019 will be held in Mos...\n",
       "21       21  Innopolis vs KAPO (Kazan) Come, support us and...\n",
       "22       22  Why to stay moody when you can shake your boot...\n",
       "23       23  SPRING BALL 2020 When: 2nd April 19:00 What: E...\n",
       "24       24  Dear Students! Soon it's your day! Traditional...\n",
       "25       25  Hi there! Student Affairs is urgently looking ...\n",
       "26       26  All-Russian MEGAHACKATHON HackUniversity 2020 ...\n",
       "27       27  We invite you to the Soft Skills School, which...\n",
       "28       28  Dear Students, the International Relations Off...\n",
       "29       29  New Faculty Candidate Seminar Lecture! Prof. D..."
      ]
     },
     "execution_count": 21,
     "metadata": {},
     "output_type": "execute_result"
    }
   ],
   "source": [
    "grouped_docs = docs_df.groupby([\"cluster\"], as_index=False).agg({\"doc\": \" \".join})\n",
    "grouped_docs"
   ]
  },
  {
   "cell_type": "code",
   "execution_count": 22,
   "id": "7d20d521-6943-4c75-be76-3ad0ac74ebf0",
   "metadata": {
    "execution": {
     "iopub.execute_input": "2025-06-11T12:44:55.248877Z",
     "iopub.status.busy": "2025-06-11T12:44:55.248608Z",
     "iopub.status.idle": "2025-06-11T12:44:56.215333Z",
     "shell.execute_reply": "2025-06-11T12:44:56.214677Z",
     "shell.execute_reply.started": "2025-06-11T12:44:55.248858Z"
    },
    "trusted": true
   },
   "outputs": [],
   "source": [
    "vectorizer = TfidfVectorizer(stop_words=\"english\", ngram_range=(1, 3))\n",
    "tfidf_matrix = vectorizer.fit_transform(grouped_docs['doc'])"
   ]
  },
  {
   "cell_type": "code",
   "execution_count": 23,
   "id": "8b50d1ae-0287-437b-8fa8-f6784f9947ef",
   "metadata": {
    "execution": {
     "iopub.execute_input": "2025-06-11T12:44:56.216396Z",
     "iopub.status.busy": "2025-06-11T12:44:56.216115Z",
     "iopub.status.idle": "2025-06-11T12:44:56.400435Z",
     "shell.execute_reply": "2025-06-11T12:44:56.399745Z",
     "shell.execute_reply.started": "2025-06-11T12:44:56.216371Z"
    },
    "trusted": true
   },
   "outputs": [
    {
     "name": "stdout",
     "output_type": "stream",
     "text": [
      "['00' '00 00' '00 00 00' ... 'ثنائي' 'ثنائي duet'\n",
      " 'ثنائي duet instrumental']\n"
     ]
    }
   ],
   "source": [
    "feature_names = vectorizer.get_feature_names_out()\n",
    "print(feature_names)"
   ]
  },
  {
   "cell_type": "code",
   "execution_count": 24,
   "id": "8c240f2e-5c84-4ebe-b84e-3f384c2f01b6",
   "metadata": {
    "execution": {
     "iopub.execute_input": "2025-06-11T12:44:56.401629Z",
     "iopub.status.busy": "2025-06-11T12:44:56.401321Z",
     "iopub.status.idle": "2025-06-11T12:44:56.943559Z",
     "shell.execute_reply": "2025-06-11T12:44:56.942831Z",
     "shell.execute_reply.started": "2025-06-11T12:44:56.401603Z"
    },
    "trusted": true
   },
   "outputs": [
    {
     "name": "stdout",
     "output_type": "stream",
     "text": [
      "Topic 0: innopolis, university, students, innopolis university, programming\n",
      "Topic 1: inno stand, inno stand club, stand club, stand, inno\n",
      "Topic 2: wegs, 00, halloween, cook, photo contest\n",
      "Topic 3: project, technologies, competition, information, projects\n",
      "Topic 4: club, 00, team, tournament, game\n",
      "Topic 5: mathematical, lecture, mathematics, russian, university\n",
      "Topic 6: click link, new visiting, lecturer candidate, just click link, just click\n",
      "Topic 7: iu, students, university, team, student\n",
      "Topic 8: art therapy, therapy, meeting, 00, language meeting russian\n",
      "Topic 9: ho, new year, christmas, ho ho, new\n",
      "Topic 10: candidate talk, lecturer candidate talk, visiting lecturer, lecturer candidate, new visiting lecturer\n",
      "Topic 11: russian, competition, scientific, technologies, project\n",
      "Topic 12: talent, got talent, inno got, inno got talent, got\n",
      "Topic 13: 00, join, talk space, talk, room\n",
      "Topic 14: russian, 00, festival, international, language\n",
      "Topic 15: contest, bee, competition, integration bee, integration\n",
      "Topic 16: music, concert, artspace, 00, rock\n",
      "Topic 17: championship, programming, russian, competition, olympiad\n",
      "Topic 18: innopolis, university, innopolis university, students, 00\n",
      "Topic 19: research, ai, artificial intelligence, artificial, intelligence\n",
      "Topic 20: forum, digital, russian, development, russia\n",
      "Topic 21: innopolis, tournament, game, 00, football\n",
      "Topic 22: dance, slippers, innostreetdance, hip hop, hop\n",
      "Topic 23: ball, spring ball, spring, latin, queen\n",
      "Topic 24: 00, zone, slippers slippers, lounge zone, slippers slippers slippers\n",
      "Topic 25: volunteering, volunteers, volunteer, 00, apply\n",
      "Topic 26: hackathon, 000, team, 000 rubles, prize fund\n",
      "Topic 27: project, students, 000, grant, russian\n",
      "Topic 28: news, iustudentnews, share send, news like share, news like\n",
      "Topic 29: optimization, lecture, methods, seminar, convex\n"
     ]
    }
   ],
   "source": [
    "topics_candidates = []\n",
    "for i in range(NUM_CLUSTERS):\n",
    "    row = tfidf_matrix[i].toarray().flatten()\n",
    "    top_indices = row.argsort()[-5:]\n",
    "    top_keywords = [feature_names[j] for j in reversed(top_indices)]\n",
    "    print(f\"Topic {i}: {', '.join(top_keywords)}\")\n",
    "    topics_candidates.extend(top_keywords)"
   ]
  },
  {
   "cell_type": "markdown",
   "id": "3dace502-5541-4e02-bade-7ac6a91300fb",
   "metadata": {},
   "source": [
    "# Final tag list candidates"
   ]
  },
  {
   "cell_type": "code",
   "execution_count": 27,
   "id": "e6230d3d-793d-4f7f-80e8-accfecbabf1e",
   "metadata": {
    "execution": {
     "iopub.execute_input": "2025-06-11T12:47:42.199142Z",
     "iopub.status.busy": "2025-06-11T12:47:42.198456Z",
     "iopub.status.idle": "2025-06-11T12:47:42.203973Z",
     "shell.execute_reply": "2025-06-11T12:47:42.203102Z",
     "shell.execute_reply.started": "2025-06-11T12:47:42.199123Z"
    },
    "trusted": true
   },
   "outputs": [
    {
     "name": "stdout",
     "output_type": "stream",
     "text": [
      "308\n",
      "{'ms teams candidates', 'startups', 'bar', 'the winners', 'hip hop', 'the future', 'prizes', 'who want', 'inno stand', 'mathematics', 'university', 'sports programming', 'news like share', 'quiz', 'date', 'lecture', 'secret santa', 'iustudentnews hello', 'part', 'sciences', 'football club', 'volunteers', 'kazan digital', 'the end', 'time', 'news', 'faculty candidate', 'club', 'dance', 'the opportunity', 'head', 'open mic', 'what', 'the framework', 'got', 'job fair', 'ball', 'digital transformation', 'science', 'meeting', 'knowledge', 'therapy', 'application deadline', 'candidate talk', 'day', 'mipt', 'russian venture', 'digital week', 'support', 'the russian federation', 'registration deadline', 'ho ho', 'olympiad', 'contest', 'volunteering', 'all', 'get ready', 'event', 'sport complex', 'hybrid mode', 'international', 'prize fund', 'queen', 'youth forum', 'innostreetdance', 'registration', 'the field', 'the link', 'dance day', 'halloween', 'our students', 'information', 'summer school', 'the form', 'the republic', 'club fest', 'share send', 'slippers party', 'language', 'christmas', 'spring', 'forum', 'the contest', 'innopoints', '000 rubles', 'who', 'bee', 'art', 'technology', 'business', 'moscow', 'others', 'new faculty', 'new visiting lecturer candidate talk', 'lounge zone', 'the festival', 'development', 'inno', 'ai', 'stand', 'mathematical', 'investors', 'games', 'news like', 'zoom', 'click link', 'questions', 'startup studio', 'reminder', 'more information', 'talk', 'hackathon', 'place', 'new visiting', 'this form', 'digital', 'music', 'yandex', 'stand club', 'artificial intelligence', 'friendly', 'technologies', 'something', 'love', 'the team', 'english', 'iu', 'any news', 'international fest', 'the results', 'yourself', 'a chance', 'inno got', 'friends', 'dates', 'artificial', 'those', 'lecturer candidate talk', 'experience', 'talent', 'which', 'life', 'green stairs', 'iustudentnews good', 'tasks', 'the world', 'people', 'inno stand club', 'your friends', 'an opportunity', 'new visiting lecturer', 'competition', 'candidate seminar', 'art therapy', 'fest', 'room', 'the university', 'rage club', 'the event', 'valentine day', 'optimization', 'your skills', 'new', 'the year', 'the program', 'candidate class', 'street dance', 'event language', 'language meeting russian', 'topics', 'good', 'the lecture', 'the website', 'workshops', 'sports', 'russian', 'fun', '1st floor', 'slippers slippers', 'the best faculty candidates', 'young people', 'applications', 'your team', 'lectures', 'themselves', 'more info', 'concert', 'the competition', 'teams', 'volunteers wanted', 'integration bee', 'photo contest', 'student', 'everyone', 'take part', 'lecture seminar', 'artspace', 'volunteering opportunity', 'the hackathon', 'new year', 'ms teams', 'kazan', 'beginners', 'the meeting', 'those who', 'machine learning', 'how', 'our', 'programming', 'dear students', 'will', 'want', 'friendly reminder', 'the conference', 'link', 'ideas', 'research', 'latin', 'the channel', 'the forum', 'tatarstan', 'convex', 'online hackathon', 'participants', 'intelligence', 'got talent', 'methods', 'year', 'culture', 'international forum', '00', 'apply', '-', 'the project', 'slippers slippers slippers', 'talk space', 'the game', 'spring ball', 'us', 'computer science', 'твой ход', 'physics', 'join', 'football', 'hop', 'like-minded people', 'universities', 'russia', 'rock', 'the development', 'information security', 'course', '000', 'scientific', 'visiting lecturer', 'zone', 'game', 'slippers', 'deadline', 'master classes', 'opportunities', 'russian federation', 'wegs', 'championship', 'winners', 'design', 'iustudentnews', 'your project', 'register', 'candidate lecture', 'volunteer', 'innostreetdance club', 'inno got talent', 'festival', 'the course', 'our university', 'a team', 'participation', 'integration', 'robotics', 'cook', 'lecturer candidate', 'experts', 'just click', 'seminar', 'innopolis university', 'first meeting', 'just click link', 'projects', 'seminar lecture', 'them', 'any questions', \"'s\", 'project', 'innopolis city', 'master class', 'candidates', 'grant', 'the group', 'education', 'team', 'tournament', 'coming soon', 'good evening', 'students', 'innopolis', 'ho', 'get'}\n"
     ]
    }
   ],
   "source": [
    "tags_candidates = []\n",
    "tags_candidates.extend(keywords_candidates)\n",
    "tags_candidates.extend(phrases_candidates)\n",
    "tags_candidates.extend(topics_candidates)\n",
    "tags_candidates = set(tags_candidates)\n",
    "\n",
    "print(len(tags_candidates))\n",
    "print(tags_candidates)"
   ]
  },
  {
   "cell_type": "code",
   "execution_count": null,
   "id": "8401191d",
   "metadata": {},
   "outputs": [],
   "source": [
    "final_tags = {\n",
    "    # --- Primary Event & Opportunity Types ---\n",
    "    \"Workshop\",\n",
    "    \"Lecture\",\n",
    "    \"Seminar\",\n",
    "    \"Talk\",\n",
    "    \"Conference\",\n",
    "    \"Forum\",\n",
    "    \"Hackathon\",\n",
    "    \"Olympiad\",\n",
    "    \"Contest\",\n",
    "    \"Festival\",\n",
    "    \"Job Fair\",\n",
    "    \"Master Class\",\n",
    "    \"Club Meeting\",\n",
    "    \"Ball\",\n",
    "    \"Concert\",\n",
    "    \"Party\",\n",
    "    \"Quiz\",\n",
    "    \"Game\",\n",
    "    \"Internship\",\n",
    "    \"Volunteering\",\n",
    "    # --- Common Topics ---\n",
    "    \"Programming\",\n",
    "    \"Artificial Intelligence\",\n",
    "    \"Computer Science\",\n",
    "    \"Machine Learning\",\n",
    "    \"Data Science\",\n",
    "    \"Cybersecurity\",\n",
    "    \"Robotics\",\n",
    "    \"Science\",\n",
    "    \"Mathematics\",\n",
    "    \"Physics\",\n",
    "    \"Business\",\n",
    "    \"Startups\",\n",
    "    \"Design\",\n",
    "    \"Art\",\n",
    "    \"Music\",\n",
    "    \"Dance\",\n",
    "    \"Sports\",\n",
    "    \"Language Learning\"\n",
    "}"
   ]
  },
  {
   "cell_type": "code",
   "execution_count": 26,
   "id": "07a9e3d8",
   "metadata": {},
   "outputs": [
    {
     "name": "stdout",
     "output_type": "stream",
     "text": [
      "37\n"
     ]
    }
   ],
   "source": [
    "print(len(final_tags))"
   ]
  }
 ],
 "metadata": {
  "kaggle": {
   "accelerator": "nvidiaTeslaT4",
   "dataSources": [
    {
     "datasetId": 7638087,
     "sourceId": 12129506,
     "sourceType": "datasetVersion"
    }
   ],
   "dockerImageVersionId": 31041,
   "isGpuEnabled": true,
   "isInternetEnabled": true,
   "language": "python",
   "sourceType": "notebook"
  },
  "kernelspec": {
   "display_name": "Python 3",
   "language": "python",
   "name": "python3"
  },
  "language_info": {
   "codemirror_mode": {
    "name": "ipython",
    "version": 3
   },
   "file_extension": ".py",
   "mimetype": "text/x-python",
   "name": "python",
   "nbconvert_exporter": "python",
   "pygments_lexer": "ipython3",
   "version": "3.11.11"
  }
 },
 "nbformat": 4,
 "nbformat_minor": 5
}
