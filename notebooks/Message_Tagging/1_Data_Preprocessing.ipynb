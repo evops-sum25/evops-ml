{
 "cells": [
  {
   "cell_type": "markdown",
   "id": "43204fad",
   "metadata": {},
   "source": [
    "### ⚙️ **Retrieve and Preprocess Messages of the Opportunities For You channel** ⚙️\n",
    "The code constructs two JSON files:\n",
    "* **o4u_messages_Jun_07_2025.json:** removes additional fields from **o4u_logs_Jun_07_2025.json** remaining only the messages\n",
    "* **o4u_preprocessed_messages_Jun_07_2025.json:** removes any special characters from messages that are unnecessary for further manipulations"
   ]
  },
  {
   "cell_type": "code",
   "execution_count": 3,
   "id": "7b33463a",
   "metadata": {},
   "outputs": [
    {
     "name": "stdout",
     "output_type": "stream",
     "text": [
      "Requirement already satisfied: emoji in c:\\users\\en3rg\\anaconda3\\lib\\site-packages (2.14.1)\n",
      "Requirement already satisfied: unicodedata2 in c:\\users\\en3rg\\anaconda3\\lib\\site-packages (15.1.0)\n"
     ]
    },
    {
     "name": "stderr",
     "output_type": "stream",
     "text": [
      "\n",
      "[notice] A new release of pip is available: 25.0.1 -> 25.1.1\n",
      "[notice] To update, run: python.exe -m pip install --upgrade pip\n"
     ]
    }
   ],
   "source": [
    "!pip install emoji unicodedata2"
   ]
  },
  {
   "cell_type": "code",
   "execution_count": 4,
   "id": "bbdd64fe",
   "metadata": {},
   "outputs": [],
   "source": [
    "import json\n",
    "import re\n",
    "import emoji\n",
    "import unicodedata"
   ]
  },
  {
   "cell_type": "code",
   "execution_count": 5,
   "id": "429721f8",
   "metadata": {},
   "outputs": [],
   "source": [
    "def extract_plain_text(message):\n",
    "    '''\n",
    "    Extracts plain text content from a JSON logs file\n",
    "\n",
    "    Args:\n",
    "        message: Message object containing 'text' field\n",
    "    \n",
    "    Returns:\n",
    "        str:   Concatenated text content if non-empty\n",
    "        None:  When result is empty string\n",
    "    '''\n",
    "    text_parts = []\n",
    "    for part in message['text']:\n",
    "        if isinstance(part, str):\n",
    "            text_parts.append(part)\n",
    "        elif isinstance(part, dict) and 'text' in part:\n",
    "            text_parts.append(part['text'])\n",
    "    result = ''.join(text_parts)\n",
    "    return None if result == '' else result\n",
    "\n",
    "with open('data/o4u_logs_Jun_07_2025.json', 'r', encoding='utf-8') as f:\n",
    "    original_data = json.load(f)\n",
    "\n",
    "messages_texts = []\n",
    "for message in original_data['messages']:\n",
    "    plain_text = extract_plain_text(message)\n",
    "    if plain_text:\n",
    "        messages_texts.append(plain_text)\n",
    "\n",
    "with open('data/o4u_messages_Jun_07_2025.json', 'w', encoding='utf-8') as f:\n",
    "    json.dump(messages_texts, f, ensure_ascii=False, indent=2)"
   ]
  },
  {
   "cell_type": "code",
   "execution_count": 6,
   "id": "e175ff13",
   "metadata": {},
   "outputs": [
    {
     "data": {
      "text/plain": [
       "['Dear students,\\n\\nThis channel advertises minor extracurricular activities, internal and external events, hackathons, competitions, campaigns and other potentially interesting happenings. All mentioned is supposed to help you to keep informed about additional opportunities for own personal and professional development.\\n\\nKeep in touch!',\n",
       " '📣Hi there!\\n\\nStudent Affairs is urgently looking for 3 volunteers to help with administrative work today from 15:30 until 18:00. \\n\\nYour efforts will be compensated with:\\n- innopoints\\n- tea & cookies, if you like\\n- friendly 319 team\\n- amazing reputation in the future!\\n\\n👉If you may help please message @andrejsblakunovs',\n",
       " '📣Hi there! Want any of these?\\n\\nStudent Affairs are looking for volunteers to help with administrative work \\n\\n- today 15:00-17:00 or\\n- tomorrow in 319 from 14:00 to 16:00.\\n\\n✅Your efforts will be compensated with:\\n\\n- IBC 2019 T-shirt\\n- tea & cookies, if you like\\n- friendliness of 319 team!\\n\\n👉If you may help please message @andrejsblakunovs',\n",
       " \"Bonjour! Ça va?\\nС'est la vie.. \\nCroissant.\\n\\n📣If these words sound familiar to you, then maybe you know something about French Language 😉🇫🇷\\n\\nTODAY Language Club invites you to the open French lesson for beginners by Aliance Francaise 😍\\n\\n🕢 1️⃣8️⃣:0️⃣0️⃣ in room 320!\\n\\n‼️Lesson will be held in Russian\\n\\nDo not hesitate to contact @alikhil or @snidjett with any questions.\",\n",
       " \"📣On December 14, comedian Vladimir Marconi arrives in Innopolis. He, together with the mayor's office and his film crew, will shoot a video about residents of the city preparing for the New Year.\\n\\n‼️Students will be working closely with Vladimir Marconi to produce a couple of comical videos. Students must have a sense of self-irony.\\n\\n🤩If you want to work in this project, message @AnyaProkhorenko by the end of Friday, November 22.\"]"
      ]
     },
     "execution_count": 6,
     "metadata": {},
     "output_type": "execute_result"
    }
   ],
   "source": [
    "with open(\"data/o4u_messages_Jun_07_2025.json\", \"r\", encoding=\"utf-8\") as f:\n",
    "    json_string = f.read()\n",
    "\n",
    "event_texts = json.loads(json_string)\n",
    "event_texts[:5]"
   ]
  },
  {
   "cell_type": "code",
   "execution_count": 8,
   "id": "eae4e930",
   "metadata": {},
   "outputs": [
    {
     "data": {
      "text/plain": [
       "['Dear students, This channel advertises minor extracurricular activities, internal and external events, hackathons, competitions, campaigns and other potentially interesting happenings. All mentioned is supposed to help you to keep informed about additional opportunities for own personal and professional development. Keep in touch!',\n",
       " 'Hi there! Student Affairs is urgently looking for 3 volunteers to help with administrative work today from 15:30 until 18:00. Your efforts will be compensated with: - innopoints - tea cookies, if you like - friendly 319 team - amazing reputation in the future! If you may help please message andrejsblakunovs',\n",
       " 'Hi there! Want any of these? Student Affairs are looking for volunteers to help with administrative work - today 15:00-17:00 or - tomorrow in 319 from 14:00 to 16:00. Your efforts will be compensated with: - IBC 2019 T-shirt - tea cookies, if you like - friendliness of 319 team! If you may help please message andrejsblakunovs',\n",
       " \"Bonjour! Ça va? С'est la vie.. Croissant. If these words sound familiar to you, then maybe you know something about French Language TODAY Language Club invites you to the open French lesson for beginners by Aliance Francaise : in room 320! Lesson will be held in Russian Do not hesitate to contact alikhil or snidjett with any questions.\",\n",
       " \"On December 14, comedian Vladimir Marconi arrives in Innopolis. He, together with the mayor's office and his film crew, will shoot a video about residents of the city preparing for the New Year. Students will be working closely with Vladimir Marconi to produce a couple of comical videos. Students must have a sense of self-irony. If you want to work in this project, message AnyaProkhorenko by the end of Friday, November 22.\"]"
      ]
     },
     "execution_count": 8,
     "metadata": {},
     "output_type": "execute_result"
    }
   ],
   "source": [
    "def preprocess_event_text(text):\n",
    "    '''\n",
    "    Performs text normalization and cleaning.\n",
    "    Removes emojis, non-text elements, URLs, and non-standard characters.\n",
    "    Supports Unicode normalization, HTML tag removal, and whitespace reduction.\n",
    "\n",
    "    Args:\n",
    "        text: Raw input string to be processed\n",
    "    \n",
    "    Returns:\n",
    "        str: Normalized and cleaned text\n",
    "    '''\n",
    "    text = emoji.replace_emoji(text, replace='')\n",
    "    text = unicodedata.normalize('NFKC', text)\n",
    "    text = re.sub(r'<[^>]+>', '', text)\n",
    "    text = re.sub(r'https?://\\S+|www\\.\\S+', '', text)\n",
    "    text = re.sub(r'[^\\w\\s.,!?;:()\"\\'-]', '', text)\n",
    "    text = re.sub(r'\\s+', ' ', text).strip()\n",
    "    return text\n",
    "\n",
    "preprocessed_texts = [preprocess_event_text(text) for text in event_texts]\n",
    "preprocessed_texts[:5]"
   ]
  },
  {
   "cell_type": "code",
   "execution_count": 9,
   "id": "53187af0",
   "metadata": {},
   "outputs": [],
   "source": [
    "with open('data/o4u_preprocessed_messages_Jun_07_2025.json', 'w', encoding='utf-8') as f:\n",
    "    json.dump(preprocessed_texts, f, ensure_ascii=False, indent=2)"
   ]
  }
 ],
 "metadata": {
  "kernelspec": {
   "display_name": "base",
   "language": "python",
   "name": "python3"
  },
  "language_info": {
   "codemirror_mode": {
    "name": "ipython",
    "version": 3
   },
   "file_extension": ".py",
   "mimetype": "text/x-python",
   "name": "python",
   "nbconvert_exporter": "python",
   "pygments_lexer": "ipython3",
   "version": "3.12.7"
  }
 },
 "nbformat": 4,
 "nbformat_minor": 5
}
